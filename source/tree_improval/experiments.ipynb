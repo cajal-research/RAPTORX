{
 "cells": [
  {
   "cell_type": "code",
   "id": "initial_id",
   "metadata": {
    "collapsed": true,
    "ExecuteTime": {
     "end_time": "2024-06-22T20:36:01.109459Z",
     "start_time": "2024-06-22T20:36:01.097665Z"
    }
   },
   "source": [
    "from source.utils.openai_utils import setup_openai_api_key\n",
    "\n",
    "# OpenAI setup\n",
    "setup_openai_api_key()"
   ],
   "outputs": [],
   "execution_count": 1
  },
  {
   "metadata": {
    "ExecuteTime": {
     "end_time": "2024-06-22T20:36:01.723205Z",
     "start_time": "2024-06-22T20:36:01.709412Z"
    }
   },
   "cell_type": "code",
   "source": [
    "from source.paths.path_reference import get_tree_pkl_path\n",
    "import pickle\n",
    "\n",
    "# Recover tree\n",
    "\n",
    "with open(get_tree_pkl_path(), 'rb') as f:\n",
    "    tree = pickle.load(f)"
   ],
   "id": "bf218e05b3fc9192",
   "outputs": [],
   "execution_count": 2
  },
  {
   "metadata": {
    "ExecuteTime": {
     "end_time": "2024-06-22T20:36:03.145061Z",
     "start_time": "2024-06-22T20:36:02.694665Z"
    }
   },
   "cell_type": "code",
   "source": [
    "from source.paths.path_reference import get_syn_dataset_path\n",
    "import pandas as pd\n",
    "\n",
    "# Generate dataset or recover it\n",
    "path = get_syn_dataset_path()\n",
    "dataset = pd.read_csv(path)"
   ],
   "id": "7d67b780c761d5a8",
   "outputs": [],
   "execution_count": 3
  },
  {
   "metadata": {
    "ExecuteTime": {
     "end_time": "2024-06-22T20:36:03.687406Z",
     "start_time": "2024-06-22T20:36:03.683709Z"
    }
   },
   "cell_type": "code",
   "source": [
    "shuffled_dataset = dataset.sample(frac=1).reset_index(drop=True)\n",
    "\n",
    "split_index = int(len(shuffled_dataset) * 0.70)\n",
    "\n",
    "train = shuffled_dataset.iloc[:split_index]\n",
    "test = shuffled_dataset.iloc[split_index:]"
   ],
   "id": "8e148376d6cb5b1d",
   "outputs": [],
   "execution_count": 4
  },
  {
   "metadata": {
    "ExecuteTime": {
     "end_time": "2024-06-22T20:36:19.605578Z",
     "start_time": "2024-06-22T20:36:04.599035Z"
    }
   },
   "cell_type": "code",
   "source": [
    "from evaluate_tree import evaluate_tree\n",
    "eval_result = evaluate_tree(tree, test)"
   ],
   "id": "a351767ed7cdeb53",
   "outputs": [
    {
     "name": "stderr",
     "output_type": "stream",
     "text": [
      "Evaluating: 100%|██████████| 21/21 [00:14<00:00,  1.46it/s]"
     ]
    },
    {
     "name": "stdout",
     "output_type": "stream",
     "text": [
      "Done!\n",
      "Accuracy: 0.47619047619047616\n"
     ]
    },
    {
     "name": "stderr",
     "output_type": "stream",
     "text": [
      "\n"
     ]
    }
   ],
   "execution_count": 5
  },
  {
   "metadata": {
    "ExecuteTime": {
     "end_time": "2024-06-22T20:37:24.194280Z",
     "start_time": "2024-06-22T20:36:53.986669Z"
    }
   },
   "cell_type": "code",
   "source": [
    "from improve_tree import improve_tree\n",
    "\n",
    "new_tree = improve_tree(tree, train)"
   ],
   "id": "bfc50d82cd78936f",
   "outputs": [
    {
     "name": "stderr",
     "output_type": "stream",
     "text": [
      "Improving tree: 100%|██████████| 49/49 [00:30<00:00,  1.62it/s]\n"
     ]
    }
   ],
   "execution_count": 7
  },
  {
   "metadata": {
    "ExecuteTime": {
     "end_time": "2024-06-22T20:37:38.733662Z",
     "start_time": "2024-06-22T20:37:25.783464Z"
    }
   },
   "cell_type": "code",
   "source": "eval_result_2 = evaluate_tree(tree, test)",
   "id": "d81673f353d0ee7b",
   "outputs": [
    {
     "name": "stderr",
     "output_type": "stream",
     "text": [
      "Evaluating: 100%|██████████| 21/21 [00:12<00:00,  1.62it/s]"
     ]
    },
    {
     "name": "stdout",
     "output_type": "stream",
     "text": [
      "Done!\n",
      "Accuracy: 0.47619047619047616\n"
     ]
    },
    {
     "name": "stderr",
     "output_type": "stream",
     "text": [
      "\n"
     ]
    }
   ],
   "execution_count": 8
  },
  {
   "metadata": {},
   "cell_type": "code",
   "outputs": [],
   "execution_count": null,
   "source": "",
   "id": "c44427b15ba1ad15"
  }
 ],
 "metadata": {
  "kernelspec": {
   "display_name": "Python 3",
   "language": "python",
   "name": "python3"
  },
  "language_info": {
   "codemirror_mode": {
    "name": "ipython",
    "version": 2
   },
   "file_extension": ".py",
   "mimetype": "text/x-python",
   "name": "python",
   "nbconvert_exporter": "python",
   "pygments_lexer": "ipython2",
   "version": "2.7.6"
  }
 },
 "nbformat": 4,
 "nbformat_minor": 5
}
