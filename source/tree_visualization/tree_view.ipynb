{
 "cells": [
  {
   "cell_type": "code",
   "id": "initial_id",
   "metadata": {
    "collapsed": true,
    "ExecuteTime": {
     "end_time": "2024-06-23T15:32:17.245927Z",
     "start_time": "2024-06-23T15:32:17.170684Z"
    }
   },
   "source": [
    "from source.tree_visualization.visualize_start import load_tree\n",
    "from source.paths.path_reference import get_tree_pkl_path\n",
    "\n",
    "pkl_path = get_tree_pkl_path()\n",
    "tree = load_tree(pkl_path)"
   ],
   "outputs": [],
   "execution_count": 1
  },
  {
   "metadata": {
    "ExecuteTime": {
     "end_time": "2024-06-23T15:32:18.803608Z",
     "start_time": "2024-06-23T15:32:18.062627Z"
    }
   },
   "cell_type": "code",
   "source": [
    "from source.tree_visualization.visualize_start import visualize_tree_graph\n",
    "\n",
    "visualize_tree_graph(tree, jupyter=True, special_nodes=[-1, 37, 9])"
   ],
   "id": "bba64411a494258a",
   "outputs": [
    {
     "data": {
      "text/html": [
       "        <script type=\"text/javascript\">\n",
       "        window.PlotlyConfig = {MathJaxConfig: 'local'};\n",
       "        if (window.MathJax && window.MathJax.Hub && window.MathJax.Hub.Config) {window.MathJax.Hub.Config({SVG: {font: \"STIX-Web\"}});}\n",
       "        if (typeof require !== 'undefined') {\n",
       "        require.undef(\"plotly\");\n",
       "        requirejs.config({\n",
       "            paths: {\n",
       "                'plotly': ['https://cdn.plot.ly/plotly-2.32.0.min']\n",
       "            }\n",
       "        });\n",
       "        require(['plotly'], function(Plotly) {\n",
       "            window._Plotly = Plotly;\n",
       "        });\n",
       "        }\n",
       "        </script>\n",
       "        "
      ]
     },
     "metadata": {},
     "output_type": "display_data"
    },
    {
     "data": {
      "application/vnd.plotly.v1+json": {
       "data": [
        {
         "hoverinfo": "none",
         "line": {
          "color": "rgb(210,210,210)",
          "width": 2
         },
         "mode": "lines",
         "x": [
          0.0,
          -16.083333333333336,
          null,
          -16.083333333333336,
          -19.083333333333336,
          null,
          -16.083333333333336,
          -18.083333333333336,
          null,
          -16.083333333333336,
          -17.083333333333336,
          null,
          -16.083333333333336,
          -16.083333333333336,
          null,
          -16.083333333333336,
          -15.083333333333336,
          null,
          -16.083333333333336,
          -14.083333333333336,
          null,
          -16.083333333333336,
          -13.083333333333336,
          null,
          0.0,
          -9.083333333333336,
          null,
          -9.083333333333336,
          -12.083333333333336,
          null,
          -9.083333333333336,
          -11.083333333333336,
          null,
          -9.083333333333336,
          -10.083333333333336,
          null,
          -9.083333333333336,
          -9.083333333333336,
          null,
          -9.083333333333336,
          -8.083333333333336,
          null,
          -9.083333333333336,
          -7.083333333333336,
          null,
          -9.083333333333336,
          -6.083333333333336,
          null,
          0.0,
          -2.5833333333333357,
          null,
          -2.5833333333333357,
          -5.083333333333336,
          null,
          -2.5833333333333357,
          -4.083333333333336,
          null,
          -2.5833333333333357,
          -3.0833333333333357,
          null,
          -2.5833333333333357,
          -2.0833333333333357,
          null,
          -2.5833333333333357,
          -1.0833333333333357,
          null,
          -2.5833333333333357,
          -0.0833333333333357,
          null,
          0.0,
          3.9166666666666643,
          null,
          3.9166666666666643,
          0.9166666666666643,
          null,
          3.9166666666666643,
          1.9166666666666643,
          null,
          3.9166666666666643,
          2.9166666666666643,
          null,
          3.9166666666666643,
          3.9166666666666643,
          null,
          3.9166666666666643,
          4.916666666666664,
          null,
          3.9166666666666643,
          5.916666666666664,
          null,
          3.9166666666666643,
          6.916666666666664,
          null,
          0.0,
          9.916666666666664,
          null,
          9.916666666666664,
          7.916666666666664,
          null,
          9.916666666666664,
          8.916666666666664,
          null,
          9.916666666666664,
          9.916666666666664,
          null,
          9.916666666666664,
          10.916666666666664,
          null,
          9.916666666666664,
          11.916666666666664,
          null,
          0.0,
          13.916666666666664,
          null,
          13.916666666666664,
          12.916666666666664,
          null,
          13.916666666666664,
          13.916666666666664,
          null,
          13.916666666666664,
          14.916666666666664,
          null
         ],
         "y": [
          4.0,
          3.0,
          null,
          3.0,
          2.0,
          null,
          3.0,
          2.0,
          null,
          3.0,
          2.0,
          null,
          3.0,
          2.0,
          null,
          3.0,
          2.0,
          null,
          3.0,
          2.0,
          null,
          3.0,
          2.0,
          null,
          4.0,
          3.0,
          null,
          3.0,
          2.0,
          null,
          3.0,
          2.0,
          null,
          3.0,
          2.0,
          null,
          3.0,
          2.0,
          null,
          3.0,
          2.0,
          null,
          3.0,
          2.0,
          null,
          3.0,
          2.0,
          null,
          4.0,
          3.0,
          null,
          3.0,
          2.0,
          null,
          3.0,
          2.0,
          null,
          3.0,
          2.0,
          null,
          3.0,
          2.0,
          null,
          3.0,
          2.0,
          null,
          3.0,
          2.0,
          null,
          4.0,
          3.0,
          null,
          3.0,
          2.0,
          null,
          3.0,
          2.0,
          null,
          3.0,
          2.0,
          null,
          3.0,
          2.0,
          null,
          3.0,
          2.0,
          null,
          3.0,
          2.0,
          null,
          3.0,
          2.0,
          null,
          4.0,
          3.0,
          null,
          3.0,
          2.0,
          null,
          3.0,
          2.0,
          null,
          3.0,
          2.0,
          null,
          3.0,
          2.0,
          null,
          3.0,
          2.0,
          null,
          4.0,
          3.0,
          null,
          3.0,
          2.0,
          null,
          3.0,
          2.0,
          null,
          3.0,
          2.0,
          null
         ],
         "type": "scatter"
        },
        {
         "hoverinfo": "text",
         "marker": {
          "color": [
           "red",
           "#6175c1",
           "#6175c1",
           "#6175c1",
           "#6175c1",
           "#6175c1",
           "#6175c1",
           "#6175c1",
           "#6175c1",
           "#6175c1",
           "#6175c1",
           "#6175c1",
           "#6175c1",
           "#6175c1",
           "#6175c1",
           "#6175c1",
           "#6175c1",
           "red",
           "#6175c1",
           "#6175c1",
           "red",
           "#6175c1",
           "#6175c1",
           "#6175c1",
           "#6175c1",
           "#6175c1",
           "#6175c1",
           "#6175c1",
           "#6175c1",
           "#6175c1",
           "#6175c1",
           "#6175c1",
           "#6175c1",
           "#6175c1",
           "#6175c1",
           "#6175c1",
           "#6175c1",
           "#6175c1",
           "#6175c1",
           "#6175c1",
           "#6175c1",
           "#6175c1"
          ],
          "line": {
           "color": "#000000",
           "width": 2
          },
          "size": 35,
          "symbol": "circle-dot"
         },
         "mode": "markers",
         "name": "nodes",
         "opacity": 0.8,
         "text": [
          "Node Index: -1, Node Text: Root Node",
          "Node Index: 35, Node Text: In this tale, a kind-hearted father asks his two step<br>-daughters what they want him to bring back for them. One asks for beautiful dre<br>sses, while the other requests pearls and jewels. When the father asks Cinderell<br>a what she would like, she simply asks him to break off the first branch that kn<br>ocks against his hat on his way home. On his journey, a hazel twig knocks off hi<br>s hat, and he fulfills the wishes of his step-daughters and brings the hazel bra<br>nch to",
          "Node Index: 4, Node Text: asked his two step-daughters what he should bring back<br> for them Beautiful dresses, said one, pearls and jewels, said the second And yo<br>u, cinderella, said he, what will you have   Father break off for me the first b<br>ranch which knocks against your hat on your way home   So he bought beautiful dr<br>esses, pearls and jewels for his two step-daughters, and on his way home, as he <br>was riding through a green thicket, a hazel twig brushed against him and",
          "Node Index: 5, Node Text: knocked off his hat   Then he broke off the branch and<br> took it with him   When he reached home he gave his step-daughters the things w<br>hich they had wished for, and to cinderella he gave the branch from the hazel-bu<br>sh   Cinderella thanked him, went to her mother's grave and planted the branch o<br>n it, and wept so much that the tears fell down on it and watered it   And it gr<br>ew and became a handsome tree",
          "Node Index: 6, Node Text:  Thrice a day cinderella went and sat beneath it, and <br>wept and prayed, and a little white bird always came on the tree, and if cindere<br>lla expressed a wish, the bird threw down to her what she had wished for It happ<br>ened, however, that the king gave orders for a festival which was to last three <br>days, and to which all the beautiful young girls in the country were invited, in<br> order that his son might choose himself a bride",
          "Node Index: 18, Node Text: a dim little oil-lamp was burning on the mantle-piece<br>, for cinderella had jumped quickly down from the back of the pigeon-house and h<br>ad run to the little hazel-tree, and there she had taken off her beautiful cloth<br>es and laid them on the grave, and the bird had taken them away again, and then <br>she had seated herself in the kitchen amongst the ashes in her grey gown Next da<br>y when the festival began afresh, and her parents and",
          "Node Index: 19, Node Text: the step-sisters had gone once more, cinderella went <br>to the hazel-tree and said -      shiver and quiver, my little tree,      silver<br> and gold throw down over me Then the bird threw down a much more beautiful dres<br>s than on the preceding day  And when cinderella appeared at the wedding in this<br> dress, every one was astonished at her beauty   The king's son had waited until<br> she came, and instantly took her by the hand",
          "Node Index: 21, Node Text: between the branches like a squirrel that the king's <br>son did not know where she was gone   He waited until her father came, and said <br>to him, the unknown maiden has escaped from me, and I believe she has climbed up<br> the pear-tree   The father thought, can it be cinderella   And had an axe broug<br>ht and cut the tree down, but no one was on it   And when they got into the",
          "Node Index: 22, Node Text: kitchen, cinderella lay there among the ashes, as usu<br>al, for she had jumped down on the other side of the tree, had taken the beautif<br>ul dress to the bird on the little hazel-tree, and put on her grey gown On the t<br>hird day, when the parents and sisters had gone away, cinderella went once more <br>to her mother's grave and said to the little tree -      shiver and quiver, my l<br>ittle tree,      silver and gold throw down over me",
          "Node Index: 36, Node Text: Summary:<br><br>In this story, a father tells his daughters that only the one whose foot fits a <br>golden slipper will be his wife. The two sisters are hopeful as they both have p<br>retty feet, but the eldest sister's foot is too big for the slipper. At her moth<br>er's urging, she cuts off her toe to make the slipper fit, and she marries the k<br>ing's son. However, on their way to the palace, two pigeons warn that the shoe i<br>s too small and",
          "Node Index: 32, Node Text: however, took cinderella on his horse and rode away w<br>ith her   As they passed by the hazel-tree, the two white doves cried -      tur<br>n and peep, turn and peep,      no blood is in the shoe,      the shoe is not to<br>o small for her,      the true bride rides with you, and when they had cried tha<br>t, the two came flying down and placed themselves on cinderella's shoulders, one<br> on the right,",
          "Node Index: 25, Node Text: the father, and said to him, no one shall be my wife <br>but she whose foot this golden slipper fits   Then were the two sisters glad, fo<br>r they had pretty feet   The eldest went with the shoe into her room and wanted <br>to try it on, and her mother stood by   But she could not get her big toe into i<br>t, and the shoe was too small for her   Then her mother gave her a knife and sai<br>d, cut the toe off,",
          "Node Index: 26, Node Text: when you are queen you will have no more need to go o<br>n foot   The maiden cut the toe off, forced the foot into the shoe, swallowed th<br>e pain, and went out to the king's son   Then he took her on his his horse as hi<br>s bride and rode away with her   They were obliged, however, to pass the grave, <br>and there, on the hazel-tree, sat the two pigeons and cried -      turn and peep<br>, turn and peep,",
          "Node Index: 27, Node Text:      there's blood within the shoe,      the shoe it <br>is too small for her,      the true bride waits for you Then he looked at her fo<br>ot and saw how the blood was trickling from it   He turned his horse round and t<br>ook the false bride home again, and said she was not the true one, and that the <br>other sister was to put the shoe on   Then this one went into her chamber and go<br>t her toes safely into the shoe, but her heel was too large",
          "Node Index: 28, Node Text:   So her mother gave her a knife and said,  cut a bit<br> off your heel, when you are queen you will have no more need to go on foot   Th<br>e maiden cut a bit off her heel, forced her foot into the shoe, swallowed the pa<br>in, and went out to the king's son   He took her on his horse as his bride, and <br>rode away with her, but when they passed by the hazel-tree, the two pigeons sat <br>on it and cried -",
          "Node Index: 29, Node Text:      turn and peep, turn and peep,      there's blood<br> within the shoe,      the shoe it is too small for her,      the true bride wai<br>ts for you He looked down at her foot and saw how the blood was running out of h<br>er shoe, and how it had stained her white stocking quite red   Then he turned hi<br>s horse and took the false bride home again   This also is not the right one, sa<br>id he, have you no other daughter",
          "Node Index: 31, Node Text: before the king's son, who gave her the golden shoe  <br> Then she seated herself on a stool, drew her foot out of the heavy wooden shoe,<br> and put it into the slipper, which fitted like a glove   And when she rose up a<br>nd the king's son looked at her face he recognized the beautiful maiden who had <br>danced with him and cried, that is the true bride   The step-mother and the two <br>sisters were horrified and became pale with rage, he,",
          "Node Index: 37, Node Text: Summary:<br><br>A rich man's wife falls sick and, feeling her end approaching, tells her daughte<br>r to be good and pious so that God will protect her. The mother passes away, and<br> the daughter visits her grave daily, remaining pious and good. When winter come<br>s, the snow covers the grave, and by spring, the man marries another woman who b<br>rings her two beautiful but wicked daughters into the house. The step-daughters <br>mistreat the kind maiden, calling her names and making her work",
          "Node Index: 0, Node Text: The wife of a rich man fell sick, and as she felt that<br> her end was drawing near, she called her only daughter to her bedside and said,<br> dear child, be good and pious, and then the good God will always protect you, a<br>nd I will look down on you from heaven and be near you   Thereupon she closed he<br>r eyes and departed   Every day the maiden went out to her mother's grave, and w<br>ept, and she remained pious and good   When winter came",
          "Node Index: 1, Node Text: the snow spread a white sheet over the grave, and by t<br>he time the spring sun had drawn it off again, the man had taken another wife Th<br>e woman had brought with her into the house two daughters, who were beautiful an<br>d fair of face, but vile and black of heart Now began a bad time for the poor st<br>ep-child   Is the stupid goose to sit in the parlor with us, they said   He who <br>wants to eat bread must earn it   Out with the kitchen-wench",
          "Node Index: 9, Node Text: back-door into the garden, and called, you tame pigeon<br>s, you turtle-doves, and all you birds beneath the sky, come and help me to pick<br>      the good into the pot,      the bad into the crop Then two white pigeons c<br>ame in by the kitchen window, and afterwards the turtle-doves, and at last all t<br>he birds beneath the sky, came whirring and crowding in, and alighted amongst th<br>e ashes",
          "Node Index: 10, Node Text: And the pigeons nodded with their heads and began pic<br>k, pick, pick, pick, and the rest began also pick, pick, pick, pick, and gathere<br>d all the good grains into the dish   Hardly had one hour passed before they had<br> finished, and all flew out again   Then the girl took the dish to her step-moth<br>er, and was glad, and believed that now she would be allowed to go with them to <br>the festival",
          "Node Index: 12, Node Text: dishes of lentils amongst the ashes, the maiden went <br>through the back-door into the garden and cried, you tame pigeons, you turtle-do<br>ves, and all you birds beneath the sky, come and help me to pick      the good i<br>nto the pot,      the bad into the crop Then two white pigeons came in by the ki<br>tchen-window, and afterwards the turtle-doves, and at length all the birds benea<br>th the",
          "Node Index: 13, Node Text: sky, came whirring and crowding in, and alighted amon<br>gst the ashes   And the doves nodded with their heads and began pick, pick, pick<br>, pick, and the others began also pick, pick, pick, pick, and gathered all the g<br>ood seeds into the dishes, and before half an hour was over they had already fin<br>ished, and all flew out again Then the maiden was delighted, and believed that s<br>he might now go with them to the wedding",
          "Node Index: 38, Node Text: In the story of \"Cinderella,\" a proud princess is str<br>ipped of her beautiful clothes, forced to wear old, grey attire and wooden shoes<br>, and made to work hard in the kitchen by her cruel stepmother and stepsisters. <br>They mock her and make her pick peas and lentils from the ashes, giving her the <br>nickname \"Cinderella\" due to her dusty appearance. Her stepmother refuses to let<br> her attend the royal festival, despite Cinderella's pleas. When a mysterious ma<br>iden leaps",
          "Node Index: 2, Node Text:   They took her pretty clothes away from her, put an o<br>ld grey bedgown on her, and gave her wooden shoes   Just look at the proud princ<br>ess, how decked out she is, they cried, and laughed, and led her into the kitche<br>n There she had to do hard work from morning till night, get up before daybreak,<br> carry water, light fires, cook and wash   Besides this, the sisters did her eve<br>ry imaginable injury - they mocked her",
          "Node Index: 3, Node Text: and emptied her peas and lentils into the ashes, so th<br>at she was forced to sit and pick them out again   In the evening when she had w<br>orked till she was weary she had no bed to go to, but had to sleep by the hearth<br> in the cinders   And as on that account she always looked dusty and dirty, they<br> called her cinderella It happened that the father was once going to the fair, a<br>nd he",
          "Node Index: 8, Node Text:   You go, cinderella, said she, covered in dust and di<br>rt as you are, and would go to the festival   You have no clothes and shoes, and<br> yet would dance   As, however, cinderella went on asking, the step-mother said <br>at last, I have emptied a dish of lentils into the ashes for you, if you have pi<br>cked them out again in two hours, you shall go with us   The maiden went through<br> the",
          "Node Index: 11, Node Text: But the step-mother said, no, cinderella, you have no<br> clothes and you can not dance   You would only be laughed at   And as cinderell<br>a wept at this, the step-mother said, if you can pick two dishes of lentils out <br>of the ashes for me in one hour, you shall go with us   And she thought to herse<br>lf, that she most certainly cannot do again   When the step-mother had emptied t<br>he two",
          "Node Index: 14, Node Text:   But the step-mother said, all this will not help   <br>You cannot go with us, for you have no clothes and can not dance   We should be <br>ashamed of you   On this she turned her back on cinderella, and hurried away wit<br>h her two proud daughters As no one was now at home, cinderella went to her moth<br>er's grave beneath the hazel-tree, and cried -      shiver and quiver, little tr<br>ee,      silver and gold throw down over me",
          "Node Index: 17, Node Text: pigeon-house   The king's son waited until her father<br> came, and then he told him that the unknown maiden had leapt into the pigeon-ho<br>use   The old man thought, can it be cinderella   And they had to bring him an a<br>xe and a pickaxe that he might hew the pigeon-house to pieces, but no one was in<br>side it   And when they got home cinderella lay in her dirty clothes among the a<br>shes, and",
          "Node Index: 30, Node Text:   No, said the man, there is still a little stunted k<br>itchen-wench which my late wife left behind her, but she cannot possibly be the <br>bride   The king's son said he was to send her up to him, but the mother answere<br>d, oh, no, she is much too dirty, she cannot show herself   But he absolutely in<br>sisted on it, and cinderella had to be called   She first washed her hands and f<br>ace clean, and then went and bowed down",
          "Node Index: 39, Node Text: Cinderella received a gold and silver dress, along wi<br>th embroidered slippers, from a bird as she prepared for a wedding. She wore the<br> dress and looked so stunning that her step-sisters and step-mother mistook her <br>for a foreign princess. They didn't recognize her and assumed Cinderella was sti<br>ll at home doing menial chores. At the wedding, the prince danced only with Cind<br>erella, refusing other partners, and even attempted to follow her home. However,<br> Cinderella managed to escape",
          "Node Index: 15, Node Text: Then the bird threw a gold and silver dress down to h<br>er, and slippers embroidered with silk and silver   She put on the dress with al<br>l speed, and went to the wedding   Her step-sisters and the step-mother however <br>did not know her, and thought she must be a foreign princess, for she looked so <br>beautiful in the golden dress They never once thought of cinderella, and believe<br>d that she was sitting at home in the dirt, picking lentils out of the ashes   T<br>he",
          "Node Index: 16, Node Text: prince approached her, took her by the hand and dance<br>d with her He would dance with no other maiden, and never let loose of her hand,<br> and if any one else came to invite her, he said, this is my partner She danced <br>till it was evening, and then she wanted to go home But the king's son said, I w<br>ill go with you and bear you company, for he wished to see to whom the beautiful<br> maiden belonged She escaped from him, however, and sprang into the",
          "Node Index: 20, Node Text: and danced with no one but her   When others came and<br> invited her, he said, this is my partner   When evening came she wished to leav<br>e, and the king's son followed her and wanted to see into which house she went  <br> But she sprang away from him, and into the garden behind the house   Therein st<br>ood a beautiful tall tree on which hung the most magnificent pears   She clamber<br>ed so nimbly",
          "Node Index: 23, Node Text: And now the bird threw down to her a dress which was <br>more splendid and magnificent than any she had yet had, and the slippers were go<br>lden   And when she went to the festival in the dress, no one knew how to speak <br>for astonishment   The king's son danced with her only, and if any one invited h<br>er to dance, he said this is my partner When evening came, cinderella wished to <br>leave, and the king's",
          "Node Index: 24, Node Text: son was anxious to go with her, but she escaped from <br>him so quickly that he could not follow her   The king's son, however, had emplo<br>yed a ruse, and had caused the whole staircase to be smeared with pitch, and the<br>re, when she ran down, had the maiden's left slipper remained stuck   The king's<br> son picked it up, and it was small and dainty, and all golden   Next morning, h<br>e went with it to",
          "Node Index: 40, Node Text: Two step-sisters are invited to a wedding at the king<br>'s palace and ask Cinderella to help them get ready. Cinderella, although happy <br>for them, wishes she could go to the dance as well. The step-mother refuses Cind<br>erella's request to attend. Later, when the king's son is to marry, the step-sis<br>ters want to gain favor with Cinderella. During the ceremony, pigeons peck out o<br>ne eye from each sister on different occasions as punishment for their wickednes<br>s",
          "Node Index: 33, Node Text: the other on the left, and remained sitting there Whe<br>n the wedding with the king's son was to be celebrated, the two false sisters ca<br>me and wanted to get into favor with cinderella and share her good fortune   Whe<br>n the betrothed couple went to church, the elder was at the right side and the y<br>ounger at the left, and the pigeons pecked out one eye from each of them   After<br>wards as they came back the elder was at",
          "Node Index: 34, Node Text: the left, and the younger at the right, and then the <br>pigeons pecked out the other eye from each   And thus, for their wickedness and <br>falsehood, they were punished with blindness all their days",
          "Node Index: 7, Node Text:   When the two step-sisters heard that they too were t<br>o appear among the number, they were delighted, called cinderella and said, comb<br> our hair for us, brush our shoes and fasten our buckles, for we are going to th<br>e wedding at the king's palace Cinderella obeyed, but wept, because she too woul<br>d have liked to go with them to the dance, and begged her step-mother to allow h<br>er to do so"
         ],
         "x": [
          0.0,
          -16.083333333333336,
          -19.083333333333336,
          -18.083333333333336,
          -17.083333333333336,
          -16.083333333333336,
          -15.083333333333336,
          -14.083333333333336,
          -13.083333333333336,
          -9.083333333333336,
          -12.083333333333336,
          -11.083333333333336,
          -10.083333333333336,
          -9.083333333333336,
          -8.083333333333336,
          -7.083333333333336,
          -6.083333333333336,
          -2.5833333333333357,
          -5.083333333333336,
          -4.083333333333336,
          -3.0833333333333357,
          -2.0833333333333357,
          -1.0833333333333357,
          -0.0833333333333357,
          3.9166666666666643,
          0.9166666666666643,
          1.9166666666666643,
          2.9166666666666643,
          3.9166666666666643,
          4.916666666666664,
          5.916666666666664,
          6.916666666666664,
          9.916666666666664,
          7.916666666666664,
          8.916666666666664,
          9.916666666666664,
          10.916666666666664,
          11.916666666666664,
          13.916666666666664,
          12.916666666666664,
          13.916666666666664,
          14.916666666666664
         ],
         "y": [
          4.0,
          3.0,
          2.0,
          2.0,
          2.0,
          2.0,
          2.0,
          2.0,
          2.0,
          3.0,
          2.0,
          2.0,
          2.0,
          2.0,
          2.0,
          2.0,
          2.0,
          3.0,
          2.0,
          2.0,
          2.0,
          2.0,
          2.0,
          2.0,
          3.0,
          2.0,
          2.0,
          2.0,
          2.0,
          2.0,
          2.0,
          2.0,
          3.0,
          2.0,
          2.0,
          2.0,
          2.0,
          2.0,
          3.0,
          2.0,
          2.0,
          2.0
         ],
         "type": "scatter"
        }
       ],
       "layout": {
        "font": {
         "size": 12
        },
        "hovermode": "closest",
        "margin": {
         "b": 85,
         "l": 40,
         "r": 40,
         "t": 100
        },
        "plot_bgcolor": "rgb(248,248,248)",
        "showlegend": false,
        "template": {
         "data": {
          "barpolar": [
           {
            "marker": {
             "line": {
              "color": "#E5ECF6",
              "width": 0.5
             },
             "pattern": {
              "fillmode": "overlay",
              "size": 10,
              "solidity": 0.2
             }
            },
            "type": "barpolar"
           }
          ],
          "bar": [
           {
            "error_x": {
             "color": "#2a3f5f"
            },
            "error_y": {
             "color": "#2a3f5f"
            },
            "marker": {
             "line": {
              "color": "#E5ECF6",
              "width": 0.5
             },
             "pattern": {
              "fillmode": "overlay",
              "size": 10,
              "solidity": 0.2
             }
            },
            "type": "bar"
           }
          ],
          "carpet": [
           {
            "aaxis": {
             "endlinecolor": "#2a3f5f",
             "gridcolor": "white",
             "linecolor": "white",
             "minorgridcolor": "white",
             "startlinecolor": "#2a3f5f"
            },
            "baxis": {
             "endlinecolor": "#2a3f5f",
             "gridcolor": "white",
             "linecolor": "white",
             "minorgridcolor": "white",
             "startlinecolor": "#2a3f5f"
            },
            "type": "carpet"
           }
          ],
          "choropleth": [
           {
            "colorbar": {
             "outlinewidth": 0,
             "ticks": ""
            },
            "type": "choropleth"
           }
          ],
          "contourcarpet": [
           {
            "colorbar": {
             "outlinewidth": 0,
             "ticks": ""
            },
            "type": "contourcarpet"
           }
          ],
          "contour": [
           {
            "colorbar": {
             "outlinewidth": 0,
             "ticks": ""
            },
            "colorscale": [
             [
              0.0,
              "#0d0887"
             ],
             [
              0.1111111111111111,
              "#46039f"
             ],
             [
              0.2222222222222222,
              "#7201a8"
             ],
             [
              0.3333333333333333,
              "#9c179e"
             ],
             [
              0.4444444444444444,
              "#bd3786"
             ],
             [
              0.5555555555555556,
              "#d8576b"
             ],
             [
              0.6666666666666666,
              "#ed7953"
             ],
             [
              0.7777777777777778,
              "#fb9f3a"
             ],
             [
              0.8888888888888888,
              "#fdca26"
             ],
             [
              1.0,
              "#f0f921"
             ]
            ],
            "type": "contour"
           }
          ],
          "heatmapgl": [
           {
            "colorbar": {
             "outlinewidth": 0,
             "ticks": ""
            },
            "colorscale": [
             [
              0.0,
              "#0d0887"
             ],
             [
              0.1111111111111111,
              "#46039f"
             ],
             [
              0.2222222222222222,
              "#7201a8"
             ],
             [
              0.3333333333333333,
              "#9c179e"
             ],
             [
              0.4444444444444444,
              "#bd3786"
             ],
             [
              0.5555555555555556,
              "#d8576b"
             ],
             [
              0.6666666666666666,
              "#ed7953"
             ],
             [
              0.7777777777777778,
              "#fb9f3a"
             ],
             [
              0.8888888888888888,
              "#fdca26"
             ],
             [
              1.0,
              "#f0f921"
             ]
            ],
            "type": "heatmapgl"
           }
          ],
          "heatmap": [
           {
            "colorbar": {
             "outlinewidth": 0,
             "ticks": ""
            },
            "colorscale": [
             [
              0.0,
              "#0d0887"
             ],
             [
              0.1111111111111111,
              "#46039f"
             ],
             [
              0.2222222222222222,
              "#7201a8"
             ],
             [
              0.3333333333333333,
              "#9c179e"
             ],
             [
              0.4444444444444444,
              "#bd3786"
             ],
             [
              0.5555555555555556,
              "#d8576b"
             ],
             [
              0.6666666666666666,
              "#ed7953"
             ],
             [
              0.7777777777777778,
              "#fb9f3a"
             ],
             [
              0.8888888888888888,
              "#fdca26"
             ],
             [
              1.0,
              "#f0f921"
             ]
            ],
            "type": "heatmap"
           }
          ],
          "histogram2dcontour": [
           {
            "colorbar": {
             "outlinewidth": 0,
             "ticks": ""
            },
            "colorscale": [
             [
              0.0,
              "#0d0887"
             ],
             [
              0.1111111111111111,
              "#46039f"
             ],
             [
              0.2222222222222222,
              "#7201a8"
             ],
             [
              0.3333333333333333,
              "#9c179e"
             ],
             [
              0.4444444444444444,
              "#bd3786"
             ],
             [
              0.5555555555555556,
              "#d8576b"
             ],
             [
              0.6666666666666666,
              "#ed7953"
             ],
             [
              0.7777777777777778,
              "#fb9f3a"
             ],
             [
              0.8888888888888888,
              "#fdca26"
             ],
             [
              1.0,
              "#f0f921"
             ]
            ],
            "type": "histogram2dcontour"
           }
          ],
          "histogram2d": [
           {
            "colorbar": {
             "outlinewidth": 0,
             "ticks": ""
            },
            "colorscale": [
             [
              0.0,
              "#0d0887"
             ],
             [
              0.1111111111111111,
              "#46039f"
             ],
             [
              0.2222222222222222,
              "#7201a8"
             ],
             [
              0.3333333333333333,
              "#9c179e"
             ],
             [
              0.4444444444444444,
              "#bd3786"
             ],
             [
              0.5555555555555556,
              "#d8576b"
             ],
             [
              0.6666666666666666,
              "#ed7953"
             ],
             [
              0.7777777777777778,
              "#fb9f3a"
             ],
             [
              0.8888888888888888,
              "#fdca26"
             ],
             [
              1.0,
              "#f0f921"
             ]
            ],
            "type": "histogram2d"
           }
          ],
          "histogram": [
           {
            "marker": {
             "pattern": {
              "fillmode": "overlay",
              "size": 10,
              "solidity": 0.2
             }
            },
            "type": "histogram"
           }
          ],
          "mesh3d": [
           {
            "colorbar": {
             "outlinewidth": 0,
             "ticks": ""
            },
            "type": "mesh3d"
           }
          ],
          "parcoords": [
           {
            "line": {
             "colorbar": {
              "outlinewidth": 0,
              "ticks": ""
             }
            },
            "type": "parcoords"
           }
          ],
          "pie": [
           {
            "automargin": true,
            "type": "pie"
           }
          ],
          "scatter3d": [
           {
            "line": {
             "colorbar": {
              "outlinewidth": 0,
              "ticks": ""
             }
            },
            "marker": {
             "colorbar": {
              "outlinewidth": 0,
              "ticks": ""
             }
            },
            "type": "scatter3d"
           }
          ],
          "scattercarpet": [
           {
            "marker": {
             "colorbar": {
              "outlinewidth": 0,
              "ticks": ""
             }
            },
            "type": "scattercarpet"
           }
          ],
          "scattergeo": [
           {
            "marker": {
             "colorbar": {
              "outlinewidth": 0,
              "ticks": ""
             }
            },
            "type": "scattergeo"
           }
          ],
          "scattergl": [
           {
            "marker": {
             "colorbar": {
              "outlinewidth": 0,
              "ticks": ""
             }
            },
            "type": "scattergl"
           }
          ],
          "scattermapbox": [
           {
            "marker": {
             "colorbar": {
              "outlinewidth": 0,
              "ticks": ""
             }
            },
            "type": "scattermapbox"
           }
          ],
          "scatterpolargl": [
           {
            "marker": {
             "colorbar": {
              "outlinewidth": 0,
              "ticks": ""
             }
            },
            "type": "scatterpolargl"
           }
          ],
          "scatterpolar": [
           {
            "marker": {
             "colorbar": {
              "outlinewidth": 0,
              "ticks": ""
             }
            },
            "type": "scatterpolar"
           }
          ],
          "scatter": [
           {
            "fillpattern": {
             "fillmode": "overlay",
             "size": 10,
             "solidity": 0.2
            },
            "type": "scatter"
           }
          ],
          "scatterternary": [
           {
            "marker": {
             "colorbar": {
              "outlinewidth": 0,
              "ticks": ""
             }
            },
            "type": "scatterternary"
           }
          ],
          "surface": [
           {
            "colorbar": {
             "outlinewidth": 0,
             "ticks": ""
            },
            "colorscale": [
             [
              0.0,
              "#0d0887"
             ],
             [
              0.1111111111111111,
              "#46039f"
             ],
             [
              0.2222222222222222,
              "#7201a8"
             ],
             [
              0.3333333333333333,
              "#9c179e"
             ],
             [
              0.4444444444444444,
              "#bd3786"
             ],
             [
              0.5555555555555556,
              "#d8576b"
             ],
             [
              0.6666666666666666,
              "#ed7953"
             ],
             [
              0.7777777777777778,
              "#fb9f3a"
             ],
             [
              0.8888888888888888,
              "#fdca26"
             ],
             [
              1.0,
              "#f0f921"
             ]
            ],
            "type": "surface"
           }
          ],
          "table": [
           {
            "cells": {
             "fill": {
              "color": "#EBF0F8"
             },
             "line": {
              "color": "white"
             }
            },
            "header": {
             "fill": {
              "color": "#C8D4E3"
             },
             "line": {
              "color": "white"
             }
            },
            "type": "table"
           }
          ]
         },
         "layout": {
          "annotationdefaults": {
           "arrowcolor": "#2a3f5f",
           "arrowhead": 0,
           "arrowwidth": 1
          },
          "autotypenumbers": "strict",
          "coloraxis": {
           "colorbar": {
            "outlinewidth": 0,
            "ticks": ""
           }
          },
          "colorscale": {
           "diverging": [
            [
             0,
             "#8e0152"
            ],
            [
             0.1,
             "#c51b7d"
            ],
            [
             0.2,
             "#de77ae"
            ],
            [
             0.3,
             "#f1b6da"
            ],
            [
             0.4,
             "#fde0ef"
            ],
            [
             0.5,
             "#f7f7f7"
            ],
            [
             0.6,
             "#e6f5d0"
            ],
            [
             0.7,
             "#b8e186"
            ],
            [
             0.8,
             "#7fbc41"
            ],
            [
             0.9,
             "#4d9221"
            ],
            [
             1,
             "#276419"
            ]
           ],
           "sequential": [
            [
             0.0,
             "#0d0887"
            ],
            [
             0.1111111111111111,
             "#46039f"
            ],
            [
             0.2222222222222222,
             "#7201a8"
            ],
            [
             0.3333333333333333,
             "#9c179e"
            ],
            [
             0.4444444444444444,
             "#bd3786"
            ],
            [
             0.5555555555555556,
             "#d8576b"
            ],
            [
             0.6666666666666666,
             "#ed7953"
            ],
            [
             0.7777777777777778,
             "#fb9f3a"
            ],
            [
             0.8888888888888888,
             "#fdca26"
            ],
            [
             1.0,
             "#f0f921"
            ]
           ],
           "sequentialminus": [
            [
             0.0,
             "#0d0887"
            ],
            [
             0.1111111111111111,
             "#46039f"
            ],
            [
             0.2222222222222222,
             "#7201a8"
            ],
            [
             0.3333333333333333,
             "#9c179e"
            ],
            [
             0.4444444444444444,
             "#bd3786"
            ],
            [
             0.5555555555555556,
             "#d8576b"
            ],
            [
             0.6666666666666666,
             "#ed7953"
            ],
            [
             0.7777777777777778,
             "#fb9f3a"
            ],
            [
             0.8888888888888888,
             "#fdca26"
            ],
            [
             1.0,
             "#f0f921"
            ]
           ]
          },
          "colorway": [
           "#636efa",
           "#EF553B",
           "#00cc96",
           "#ab63fa",
           "#FFA15A",
           "#19d3f3",
           "#FF6692",
           "#B6E880",
           "#FF97FF",
           "#FECB52"
          ],
          "font": {
           "color": "#2a3f5f"
          },
          "geo": {
           "bgcolor": "white",
           "lakecolor": "white",
           "landcolor": "#E5ECF6",
           "showlakes": true,
           "showland": true,
           "subunitcolor": "white"
          },
          "hoverlabel": {
           "align": "left"
          },
          "hovermode": "closest",
          "mapbox": {
           "style": "light"
          },
          "paper_bgcolor": "white",
          "plot_bgcolor": "#E5ECF6",
          "polar": {
           "angularaxis": {
            "gridcolor": "white",
            "linecolor": "white",
            "ticks": ""
           },
           "bgcolor": "#E5ECF6",
           "radialaxis": {
            "gridcolor": "white",
            "linecolor": "white",
            "ticks": ""
           }
          },
          "scene": {
           "xaxis": {
            "backgroundcolor": "#E5ECF6",
            "gridcolor": "white",
            "gridwidth": 2,
            "linecolor": "white",
            "showbackground": true,
            "ticks": "",
            "zerolinecolor": "white"
           },
           "yaxis": {
            "backgroundcolor": "#E5ECF6",
            "gridcolor": "white",
            "gridwidth": 2,
            "linecolor": "white",
            "showbackground": true,
            "ticks": "",
            "zerolinecolor": "white"
           },
           "zaxis": {
            "backgroundcolor": "#E5ECF6",
            "gridcolor": "white",
            "gridwidth": 2,
            "linecolor": "white",
            "showbackground": true,
            "ticks": "",
            "zerolinecolor": "white"
           }
          },
          "shapedefaults": {
           "line": {
            "color": "#2a3f5f"
           }
          },
          "ternary": {
           "aaxis": {
            "gridcolor": "white",
            "linecolor": "white",
            "ticks": ""
           },
           "baxis": {
            "gridcolor": "white",
            "linecolor": "white",
            "ticks": ""
           },
           "bgcolor": "#E5ECF6",
           "caxis": {
            "gridcolor": "white",
            "linecolor": "white",
            "ticks": ""
           }
          },
          "title": {
           "x": 0.05
          },
          "xaxis": {
           "automargin": true,
           "gridcolor": "white",
           "linecolor": "white",
           "ticks": "",
           "title": {
            "standoff": 15
           },
           "zerolinecolor": "white",
           "zerolinewidth": 2
          },
          "yaxis": {
           "automargin": true,
           "gridcolor": "white",
           "linecolor": "white",
           "ticks": "",
           "title": {
            "standoff": 15
           },
           "zerolinecolor": "white",
           "zerolinewidth": 2
          }
         }
        },
        "title": {
         "text": "Tree Visualization"
        },
        "width": 1500,
        "xaxis": {
         "showgrid": false,
         "showline": false,
         "showticklabels": false,
         "zeroline": false
        },
        "yaxis": {
         "showgrid": false,
         "showline": false,
         "showticklabels": false,
         "zeroline": false
        }
       },
       "config": {
        "showLink": false,
        "linkText": "Export to plot.ly",
        "plotlyServerURL": "https://plot.ly"
       }
      },
      "text/html": [
       "<div>                            <div id=\"23555aa4-f4f9-4977-a137-c0166845498b\" class=\"plotly-graph-div\" style=\"height:525px; width:1500px;\"></div>            <script type=\"text/javascript\">                require([\"plotly\"], function(Plotly) {                    window.PLOTLYENV=window.PLOTLYENV || {};                                    if (document.getElementById(\"23555aa4-f4f9-4977-a137-c0166845498b\")) {                    Plotly.newPlot(                        \"23555aa4-f4f9-4977-a137-c0166845498b\",                        [{\"hoverinfo\":\"none\",\"line\":{\"color\":\"rgb(210,210,210)\",\"width\":2},\"mode\":\"lines\",\"x\":[0.0,-16.083333333333336,null,-16.083333333333336,-19.083333333333336,null,-16.083333333333336,-18.083333333333336,null,-16.083333333333336,-17.083333333333336,null,-16.083333333333336,-16.083333333333336,null,-16.083333333333336,-15.083333333333336,null,-16.083333333333336,-14.083333333333336,null,-16.083333333333336,-13.083333333333336,null,0.0,-9.083333333333336,null,-9.083333333333336,-12.083333333333336,null,-9.083333333333336,-11.083333333333336,null,-9.083333333333336,-10.083333333333336,null,-9.083333333333336,-9.083333333333336,null,-9.083333333333336,-8.083333333333336,null,-9.083333333333336,-7.083333333333336,null,-9.083333333333336,-6.083333333333336,null,0.0,-2.5833333333333357,null,-2.5833333333333357,-5.083333333333336,null,-2.5833333333333357,-4.083333333333336,null,-2.5833333333333357,-3.0833333333333357,null,-2.5833333333333357,-2.0833333333333357,null,-2.5833333333333357,-1.0833333333333357,null,-2.5833333333333357,-0.0833333333333357,null,0.0,3.9166666666666643,null,3.9166666666666643,0.9166666666666643,null,3.9166666666666643,1.9166666666666643,null,3.9166666666666643,2.9166666666666643,null,3.9166666666666643,3.9166666666666643,null,3.9166666666666643,4.916666666666664,null,3.9166666666666643,5.916666666666664,null,3.9166666666666643,6.916666666666664,null,0.0,9.916666666666664,null,9.916666666666664,7.916666666666664,null,9.916666666666664,8.916666666666664,null,9.916666666666664,9.916666666666664,null,9.916666666666664,10.916666666666664,null,9.916666666666664,11.916666666666664,null,0.0,13.916666666666664,null,13.916666666666664,12.916666666666664,null,13.916666666666664,13.916666666666664,null,13.916666666666664,14.916666666666664,null],\"y\":[4.0,3.0,null,3.0,2.0,null,3.0,2.0,null,3.0,2.0,null,3.0,2.0,null,3.0,2.0,null,3.0,2.0,null,3.0,2.0,null,4.0,3.0,null,3.0,2.0,null,3.0,2.0,null,3.0,2.0,null,3.0,2.0,null,3.0,2.0,null,3.0,2.0,null,3.0,2.0,null,4.0,3.0,null,3.0,2.0,null,3.0,2.0,null,3.0,2.0,null,3.0,2.0,null,3.0,2.0,null,3.0,2.0,null,4.0,3.0,null,3.0,2.0,null,3.0,2.0,null,3.0,2.0,null,3.0,2.0,null,3.0,2.0,null,3.0,2.0,null,3.0,2.0,null,4.0,3.0,null,3.0,2.0,null,3.0,2.0,null,3.0,2.0,null,3.0,2.0,null,3.0,2.0,null,4.0,3.0,null,3.0,2.0,null,3.0,2.0,null,3.0,2.0,null],\"type\":\"scatter\"},{\"hoverinfo\":\"text\",\"marker\":{\"color\":[\"red\",\"#6175c1\",\"#6175c1\",\"#6175c1\",\"#6175c1\",\"#6175c1\",\"#6175c1\",\"#6175c1\",\"#6175c1\",\"#6175c1\",\"#6175c1\",\"#6175c1\",\"#6175c1\",\"#6175c1\",\"#6175c1\",\"#6175c1\",\"#6175c1\",\"red\",\"#6175c1\",\"#6175c1\",\"red\",\"#6175c1\",\"#6175c1\",\"#6175c1\",\"#6175c1\",\"#6175c1\",\"#6175c1\",\"#6175c1\",\"#6175c1\",\"#6175c1\",\"#6175c1\",\"#6175c1\",\"#6175c1\",\"#6175c1\",\"#6175c1\",\"#6175c1\",\"#6175c1\",\"#6175c1\",\"#6175c1\",\"#6175c1\",\"#6175c1\",\"#6175c1\"],\"line\":{\"color\":\"#000000\",\"width\":2},\"size\":35,\"symbol\":\"circle-dot\"},\"mode\":\"markers\",\"name\":\"nodes\",\"opacity\":0.8,\"text\":[\"Node Index: -1, Node Text: Root Node\",\"Node Index: 35, Node Text: In this tale, a kind-hearted father asks his two step\\u003cbr\\u003e-daughters what they want him to bring back for them. One asks for beautiful dre\\u003cbr\\u003esses, while the other requests pearls and jewels. When the father asks Cinderell\\u003cbr\\u003ea what she would like, she simply asks him to break off the first branch that kn\\u003cbr\\u003eocks against his hat on his way home. On his journey, a hazel twig knocks off hi\\u003cbr\\u003es hat, and he fulfills the wishes of his step-daughters and brings the hazel bra\\u003cbr\\u003ench to\",\"Node Index: 4, Node Text: asked his two step-daughters what he should bring back\\u003cbr\\u003e for them Beautiful dresses, said one, pearls and jewels, said the second And yo\\u003cbr\\u003eu, cinderella, said he, what will you have   Father break off for me the first b\\u003cbr\\u003eranch which knocks against your hat on your way home   So he bought beautiful dr\\u003cbr\\u003eesses, pearls and jewels for his two step-daughters, and on his way home, as he \\u003cbr\\u003ewas riding through a green thicket, a hazel twig brushed against him and\",\"Node Index: 5, Node Text: knocked off his hat   Then he broke off the branch and\\u003cbr\\u003e took it with him   When he reached home he gave his step-daughters the things w\\u003cbr\\u003ehich they had wished for, and to cinderella he gave the branch from the hazel-bu\\u003cbr\\u003esh   Cinderella thanked him, went to her mother's grave and planted the branch o\\u003cbr\\u003en it, and wept so much that the tears fell down on it and watered it   And it gr\\u003cbr\\u003eew and became a handsome tree\",\"Node Index: 6, Node Text:  Thrice a day cinderella went and sat beneath it, and \\u003cbr\\u003ewept and prayed, and a little white bird always came on the tree, and if cindere\\u003cbr\\u003ella expressed a wish, the bird threw down to her what she had wished for It happ\\u003cbr\\u003eened, however, that the king gave orders for a festival which was to last three \\u003cbr\\u003edays, and to which all the beautiful young girls in the country were invited, in\\u003cbr\\u003e order that his son might choose himself a bride\",\"Node Index: 18, Node Text: a dim little oil-lamp was burning on the mantle-piece\\u003cbr\\u003e, for cinderella had jumped quickly down from the back of the pigeon-house and h\\u003cbr\\u003ead run to the little hazel-tree, and there she had taken off her beautiful cloth\\u003cbr\\u003ees and laid them on the grave, and the bird had taken them away again, and then \\u003cbr\\u003eshe had seated herself in the kitchen amongst the ashes in her grey gown Next da\\u003cbr\\u003ey when the festival began afresh, and her parents and\",\"Node Index: 19, Node Text: the step-sisters had gone once more, cinderella went \\u003cbr\\u003eto the hazel-tree and said -      shiver and quiver, my little tree,      silver\\u003cbr\\u003e and gold throw down over me Then the bird threw down a much more beautiful dres\\u003cbr\\u003es than on the preceding day  And when cinderella appeared at the wedding in this\\u003cbr\\u003e dress, every one was astonished at her beauty   The king's son had waited until\\u003cbr\\u003e she came, and instantly took her by the hand\",\"Node Index: 21, Node Text: between the branches like a squirrel that the king's \\u003cbr\\u003eson did not know where she was gone   He waited until her father came, and said \\u003cbr\\u003eto him, the unknown maiden has escaped from me, and I believe she has climbed up\\u003cbr\\u003e the pear-tree   The father thought, can it be cinderella   And had an axe broug\\u003cbr\\u003eht and cut the tree down, but no one was on it   And when they got into the\",\"Node Index: 22, Node Text: kitchen, cinderella lay there among the ashes, as usu\\u003cbr\\u003eal, for she had jumped down on the other side of the tree, had taken the beautif\\u003cbr\\u003eul dress to the bird on the little hazel-tree, and put on her grey gown On the t\\u003cbr\\u003ehird day, when the parents and sisters had gone away, cinderella went once more \\u003cbr\\u003eto her mother's grave and said to the little tree -      shiver and quiver, my l\\u003cbr\\u003eittle tree,      silver and gold throw down over me\",\"Node Index: 36, Node Text: Summary:\\u003cbr\\u003e\\u003cbr\\u003eIn this story, a father tells his daughters that only the one whose foot fits a \\u003cbr\\u003egolden slipper will be his wife. The two sisters are hopeful as they both have p\\u003cbr\\u003eretty feet, but the eldest sister's foot is too big for the slipper. At her moth\\u003cbr\\u003eer's urging, she cuts off her toe to make the slipper fit, and she marries the k\\u003cbr\\u003eing's son. However, on their way to the palace, two pigeons warn that the shoe i\\u003cbr\\u003es too small and\",\"Node Index: 32, Node Text: however, took cinderella on his horse and rode away w\\u003cbr\\u003eith her   As they passed by the hazel-tree, the two white doves cried -      tur\\u003cbr\\u003en and peep, turn and peep,      no blood is in the shoe,      the shoe is not to\\u003cbr\\u003eo small for her,      the true bride rides with you, and when they had cried tha\\u003cbr\\u003et, the two came flying down and placed themselves on cinderella's shoulders, one\\u003cbr\\u003e on the right,\",\"Node Index: 25, Node Text: the father, and said to him, no one shall be my wife \\u003cbr\\u003ebut she whose foot this golden slipper fits   Then were the two sisters glad, fo\\u003cbr\\u003er they had pretty feet   The eldest went with the shoe into her room and wanted \\u003cbr\\u003eto try it on, and her mother stood by   But she could not get her big toe into i\\u003cbr\\u003et, and the shoe was too small for her   Then her mother gave her a knife and sai\\u003cbr\\u003ed, cut the toe off,\",\"Node Index: 26, Node Text: when you are queen you will have no more need to go o\\u003cbr\\u003en foot   The maiden cut the toe off, forced the foot into the shoe, swallowed th\\u003cbr\\u003ee pain, and went out to the king's son   Then he took her on his his horse as hi\\u003cbr\\u003es bride and rode away with her   They were obliged, however, to pass the grave, \\u003cbr\\u003eand there, on the hazel-tree, sat the two pigeons and cried -      turn and peep\\u003cbr\\u003e, turn and peep,\",\"Node Index: 27, Node Text:      there's blood within the shoe,      the shoe it \\u003cbr\\u003eis too small for her,      the true bride waits for you Then he looked at her fo\\u003cbr\\u003eot and saw how the blood was trickling from it   He turned his horse round and t\\u003cbr\\u003eook the false bride home again, and said she was not the true one, and that the \\u003cbr\\u003eother sister was to put the shoe on   Then this one went into her chamber and go\\u003cbr\\u003et her toes safely into the shoe, but her heel was too large\",\"Node Index: 28, Node Text:   So her mother gave her a knife and said,  cut a bit\\u003cbr\\u003e off your heel, when you are queen you will have no more need to go on foot   Th\\u003cbr\\u003ee maiden cut a bit off her heel, forced her foot into the shoe, swallowed the pa\\u003cbr\\u003ein, and went out to the king's son   He took her on his horse as his bride, and \\u003cbr\\u003erode away with her, but when they passed by the hazel-tree, the two pigeons sat \\u003cbr\\u003eon it and cried -\",\"Node Index: 29, Node Text:      turn and peep, turn and peep,      there's blood\\u003cbr\\u003e within the shoe,      the shoe it is too small for her,      the true bride wai\\u003cbr\\u003ets for you He looked down at her foot and saw how the blood was running out of h\\u003cbr\\u003eer shoe, and how it had stained her white stocking quite red   Then he turned hi\\u003cbr\\u003es horse and took the false bride home again   This also is not the right one, sa\\u003cbr\\u003eid he, have you no other daughter\",\"Node Index: 31, Node Text: before the king's son, who gave her the golden shoe  \\u003cbr\\u003e Then she seated herself on a stool, drew her foot out of the heavy wooden shoe,\\u003cbr\\u003e and put it into the slipper, which fitted like a glove   And when she rose up a\\u003cbr\\u003end the king's son looked at her face he recognized the beautiful maiden who had \\u003cbr\\u003edanced with him and cried, that is the true bride   The step-mother and the two \\u003cbr\\u003esisters were horrified and became pale with rage, he,\",\"Node Index: 37, Node Text: Summary:\\u003cbr\\u003e\\u003cbr\\u003eA rich man's wife falls sick and, feeling her end approaching, tells her daughte\\u003cbr\\u003er to be good and pious so that God will protect her. The mother passes away, and\\u003cbr\\u003e the daughter visits her grave daily, remaining pious and good. When winter come\\u003cbr\\u003es, the snow covers the grave, and by spring, the man marries another woman who b\\u003cbr\\u003erings her two beautiful but wicked daughters into the house. The step-daughters \\u003cbr\\u003emistreat the kind maiden, calling her names and making her work\",\"Node Index: 0, Node Text: The wife of a rich man fell sick, and as she felt that\\u003cbr\\u003e her end was drawing near, she called her only daughter to her bedside and said,\\u003cbr\\u003e dear child, be good and pious, and then the good God will always protect you, a\\u003cbr\\u003end I will look down on you from heaven and be near you   Thereupon she closed he\\u003cbr\\u003er eyes and departed   Every day the maiden went out to her mother's grave, and w\\u003cbr\\u003eept, and she remained pious and good   When winter came\",\"Node Index: 1, Node Text: the snow spread a white sheet over the grave, and by t\\u003cbr\\u003ehe time the spring sun had drawn it off again, the man had taken another wife Th\\u003cbr\\u003ee woman had brought with her into the house two daughters, who were beautiful an\\u003cbr\\u003ed fair of face, but vile and black of heart Now began a bad time for the poor st\\u003cbr\\u003eep-child   Is the stupid goose to sit in the parlor with us, they said   He who \\u003cbr\\u003ewants to eat bread must earn it   Out with the kitchen-wench\",\"Node Index: 9, Node Text: back-door into the garden, and called, you tame pigeon\\u003cbr\\u003es, you turtle-doves, and all you birds beneath the sky, come and help me to pick\\u003cbr\\u003e      the good into the pot,      the bad into the crop Then two white pigeons c\\u003cbr\\u003eame in by the kitchen window, and afterwards the turtle-doves, and at last all t\\u003cbr\\u003ehe birds beneath the sky, came whirring and crowding in, and alighted amongst th\\u003cbr\\u003ee ashes\",\"Node Index: 10, Node Text: And the pigeons nodded with their heads and began pic\\u003cbr\\u003ek, pick, pick, pick, and the rest began also pick, pick, pick, pick, and gathere\\u003cbr\\u003ed all the good grains into the dish   Hardly had one hour passed before they had\\u003cbr\\u003e finished, and all flew out again   Then the girl took the dish to her step-moth\\u003cbr\\u003eer, and was glad, and believed that now she would be allowed to go with them to \\u003cbr\\u003ethe festival\",\"Node Index: 12, Node Text: dishes of lentils amongst the ashes, the maiden went \\u003cbr\\u003ethrough the back-door into the garden and cried, you tame pigeons, you turtle-do\\u003cbr\\u003eves, and all you birds beneath the sky, come and help me to pick      the good i\\u003cbr\\u003ento the pot,      the bad into the crop Then two white pigeons came in by the ki\\u003cbr\\u003etchen-window, and afterwards the turtle-doves, and at length all the birds benea\\u003cbr\\u003eth the\",\"Node Index: 13, Node Text: sky, came whirring and crowding in, and alighted amon\\u003cbr\\u003egst the ashes   And the doves nodded with their heads and began pick, pick, pick\\u003cbr\\u003e, pick, and the others began also pick, pick, pick, pick, and gathered all the g\\u003cbr\\u003eood seeds into the dishes, and before half an hour was over they had already fin\\u003cbr\\u003eished, and all flew out again Then the maiden was delighted, and believed that s\\u003cbr\\u003ehe might now go with them to the wedding\",\"Node Index: 38, Node Text: In the story of \\\"Cinderella,\\\" a proud princess is str\\u003cbr\\u003eipped of her beautiful clothes, forced to wear old, grey attire and wooden shoes\\u003cbr\\u003e, and made to work hard in the kitchen by her cruel stepmother and stepsisters. \\u003cbr\\u003eThey mock her and make her pick peas and lentils from the ashes, giving her the \\u003cbr\\u003enickname \\\"Cinderella\\\" due to her dusty appearance. Her stepmother refuses to let\\u003cbr\\u003e her attend the royal festival, despite Cinderella's pleas. When a mysterious ma\\u003cbr\\u003eiden leaps\",\"Node Index: 2, Node Text:   They took her pretty clothes away from her, put an o\\u003cbr\\u003eld grey bedgown on her, and gave her wooden shoes   Just look at the proud princ\\u003cbr\\u003eess, how decked out she is, they cried, and laughed, and led her into the kitche\\u003cbr\\u003en There she had to do hard work from morning till night, get up before daybreak,\\u003cbr\\u003e carry water, light fires, cook and wash   Besides this, the sisters did her eve\\u003cbr\\u003ery imaginable injury - they mocked her\",\"Node Index: 3, Node Text: and emptied her peas and lentils into the ashes, so th\\u003cbr\\u003eat she was forced to sit and pick them out again   In the evening when she had w\\u003cbr\\u003eorked till she was weary she had no bed to go to, but had to sleep by the hearth\\u003cbr\\u003e in the cinders   And as on that account she always looked dusty and dirty, they\\u003cbr\\u003e called her cinderella It happened that the father was once going to the fair, a\\u003cbr\\u003end he\",\"Node Index: 8, Node Text:   You go, cinderella, said she, covered in dust and di\\u003cbr\\u003ert as you are, and would go to the festival   You have no clothes and shoes, and\\u003cbr\\u003e yet would dance   As, however, cinderella went on asking, the step-mother said \\u003cbr\\u003eat last, I have emptied a dish of lentils into the ashes for you, if you have pi\\u003cbr\\u003ecked them out again in two hours, you shall go with us   The maiden went through\\u003cbr\\u003e the\",\"Node Index: 11, Node Text: But the step-mother said, no, cinderella, you have no\\u003cbr\\u003e clothes and you can not dance   You would only be laughed at   And as cinderell\\u003cbr\\u003ea wept at this, the step-mother said, if you can pick two dishes of lentils out \\u003cbr\\u003eof the ashes for me in one hour, you shall go with us   And she thought to herse\\u003cbr\\u003elf, that she most certainly cannot do again   When the step-mother had emptied t\\u003cbr\\u003ehe two\",\"Node Index: 14, Node Text:   But the step-mother said, all this will not help   \\u003cbr\\u003eYou cannot go with us, for you have no clothes and can not dance   We should be \\u003cbr\\u003eashamed of you   On this she turned her back on cinderella, and hurried away wit\\u003cbr\\u003eh her two proud daughters As no one was now at home, cinderella went to her moth\\u003cbr\\u003eer's grave beneath the hazel-tree, and cried -      shiver and quiver, little tr\\u003cbr\\u003eee,      silver and gold throw down over me\",\"Node Index: 17, Node Text: pigeon-house   The king's son waited until her father\\u003cbr\\u003e came, and then he told him that the unknown maiden had leapt into the pigeon-ho\\u003cbr\\u003euse   The old man thought, can it be cinderella   And they had to bring him an a\\u003cbr\\u003exe and a pickaxe that he might hew the pigeon-house to pieces, but no one was in\\u003cbr\\u003eside it   And when they got home cinderella lay in her dirty clothes among the a\\u003cbr\\u003eshes, and\",\"Node Index: 30, Node Text:   No, said the man, there is still a little stunted k\\u003cbr\\u003eitchen-wench which my late wife left behind her, but she cannot possibly be the \\u003cbr\\u003ebride   The king's son said he was to send her up to him, but the mother answere\\u003cbr\\u003ed, oh, no, she is much too dirty, she cannot show herself   But he absolutely in\\u003cbr\\u003esisted on it, and cinderella had to be called   She first washed her hands and f\\u003cbr\\u003eace clean, and then went and bowed down\",\"Node Index: 39, Node Text: Cinderella received a gold and silver dress, along wi\\u003cbr\\u003eth embroidered slippers, from a bird as she prepared for a wedding. She wore the\\u003cbr\\u003e dress and looked so stunning that her step-sisters and step-mother mistook her \\u003cbr\\u003efor a foreign princess. They didn't recognize her and assumed Cinderella was sti\\u003cbr\\u003ell at home doing menial chores. At the wedding, the prince danced only with Cind\\u003cbr\\u003eerella, refusing other partners, and even attempted to follow her home. However,\\u003cbr\\u003e Cinderella managed to escape\",\"Node Index: 15, Node Text: Then the bird threw a gold and silver dress down to h\\u003cbr\\u003eer, and slippers embroidered with silk and silver   She put on the dress with al\\u003cbr\\u003el speed, and went to the wedding   Her step-sisters and the step-mother however \\u003cbr\\u003edid not know her, and thought she must be a foreign princess, for she looked so \\u003cbr\\u003ebeautiful in the golden dress They never once thought of cinderella, and believe\\u003cbr\\u003ed that she was sitting at home in the dirt, picking lentils out of the ashes   T\\u003cbr\\u003ehe\",\"Node Index: 16, Node Text: prince approached her, took her by the hand and dance\\u003cbr\\u003ed with her He would dance with no other maiden, and never let loose of her hand,\\u003cbr\\u003e and if any one else came to invite her, he said, this is my partner She danced \\u003cbr\\u003etill it was evening, and then she wanted to go home But the king's son said, I w\\u003cbr\\u003eill go with you and bear you company, for he wished to see to whom the beautiful\\u003cbr\\u003e maiden belonged She escaped from him, however, and sprang into the\",\"Node Index: 20, Node Text: and danced with no one but her   When others came and\\u003cbr\\u003e invited her, he said, this is my partner   When evening came she wished to leav\\u003cbr\\u003ee, and the king's son followed her and wanted to see into which house she went  \\u003cbr\\u003e But she sprang away from him, and into the garden behind the house   Therein st\\u003cbr\\u003eood a beautiful tall tree on which hung the most magnificent pears   She clamber\\u003cbr\\u003eed so nimbly\",\"Node Index: 23, Node Text: And now the bird threw down to her a dress which was \\u003cbr\\u003emore splendid and magnificent than any she had yet had, and the slippers were go\\u003cbr\\u003elden   And when she went to the festival in the dress, no one knew how to speak \\u003cbr\\u003efor astonishment   The king's son danced with her only, and if any one invited h\\u003cbr\\u003eer to dance, he said this is my partner When evening came, cinderella wished to \\u003cbr\\u003eleave, and the king's\",\"Node Index: 24, Node Text: son was anxious to go with her, but she escaped from \\u003cbr\\u003ehim so quickly that he could not follow her   The king's son, however, had emplo\\u003cbr\\u003eyed a ruse, and had caused the whole staircase to be smeared with pitch, and the\\u003cbr\\u003ere, when she ran down, had the maiden's left slipper remained stuck   The king's\\u003cbr\\u003e son picked it up, and it was small and dainty, and all golden   Next morning, h\\u003cbr\\u003ee went with it to\",\"Node Index: 40, Node Text: Two step-sisters are invited to a wedding at the king\\u003cbr\\u003e's palace and ask Cinderella to help them get ready. Cinderella, although happy \\u003cbr\\u003efor them, wishes she could go to the dance as well. The step-mother refuses Cind\\u003cbr\\u003eerella's request to attend. Later, when the king's son is to marry, the step-sis\\u003cbr\\u003eters want to gain favor with Cinderella. During the ceremony, pigeons peck out o\\u003cbr\\u003ene eye from each sister on different occasions as punishment for their wickednes\\u003cbr\\u003es\",\"Node Index: 33, Node Text: the other on the left, and remained sitting there Whe\\u003cbr\\u003en the wedding with the king's son was to be celebrated, the two false sisters ca\\u003cbr\\u003eme and wanted to get into favor with cinderella and share her good fortune   Whe\\u003cbr\\u003en the betrothed couple went to church, the elder was at the right side and the y\\u003cbr\\u003eounger at the left, and the pigeons pecked out one eye from each of them   After\\u003cbr\\u003ewards as they came back the elder was at\",\"Node Index: 34, Node Text: the left, and the younger at the right, and then the \\u003cbr\\u003epigeons pecked out the other eye from each   And thus, for their wickedness and \\u003cbr\\u003efalsehood, they were punished with blindness all their days\",\"Node Index: 7, Node Text:   When the two step-sisters heard that they too were t\\u003cbr\\u003eo appear among the number, they were delighted, called cinderella and said, comb\\u003cbr\\u003e our hair for us, brush our shoes and fasten our buckles, for we are going to th\\u003cbr\\u003ee wedding at the king's palace Cinderella obeyed, but wept, because she too woul\\u003cbr\\u003ed have liked to go with them to the dance, and begged her step-mother to allow h\\u003cbr\\u003eer to do so\"],\"x\":[0.0,-16.083333333333336,-19.083333333333336,-18.083333333333336,-17.083333333333336,-16.083333333333336,-15.083333333333336,-14.083333333333336,-13.083333333333336,-9.083333333333336,-12.083333333333336,-11.083333333333336,-10.083333333333336,-9.083333333333336,-8.083333333333336,-7.083333333333336,-6.083333333333336,-2.5833333333333357,-5.083333333333336,-4.083333333333336,-3.0833333333333357,-2.0833333333333357,-1.0833333333333357,-0.0833333333333357,3.9166666666666643,0.9166666666666643,1.9166666666666643,2.9166666666666643,3.9166666666666643,4.916666666666664,5.916666666666664,6.916666666666664,9.916666666666664,7.916666666666664,8.916666666666664,9.916666666666664,10.916666666666664,11.916666666666664,13.916666666666664,12.916666666666664,13.916666666666664,14.916666666666664],\"y\":[4.0,3.0,2.0,2.0,2.0,2.0,2.0,2.0,2.0,3.0,2.0,2.0,2.0,2.0,2.0,2.0,2.0,3.0,2.0,2.0,2.0,2.0,2.0,2.0,3.0,2.0,2.0,2.0,2.0,2.0,2.0,2.0,3.0,2.0,2.0,2.0,2.0,2.0,3.0,2.0,2.0,2.0],\"type\":\"scatter\"}],                        {\"font\":{\"size\":12},\"hovermode\":\"closest\",\"margin\":{\"b\":85,\"l\":40,\"r\":40,\"t\":100},\"plot_bgcolor\":\"rgb(248,248,248)\",\"showlegend\":false,\"template\":{\"data\":{\"barpolar\":[{\"marker\":{\"line\":{\"color\":\"#E5ECF6\",\"width\":0.5},\"pattern\":{\"fillmode\":\"overlay\",\"size\":10,\"solidity\":0.2}},\"type\":\"barpolar\"}],\"bar\":[{\"error_x\":{\"color\":\"#2a3f5f\"},\"error_y\":{\"color\":\"#2a3f5f\"},\"marker\":{\"line\":{\"color\":\"#E5ECF6\",\"width\":0.5},\"pattern\":{\"fillmode\":\"overlay\",\"size\":10,\"solidity\":0.2}},\"type\":\"bar\"}],\"carpet\":[{\"aaxis\":{\"endlinecolor\":\"#2a3f5f\",\"gridcolor\":\"white\",\"linecolor\":\"white\",\"minorgridcolor\":\"white\",\"startlinecolor\":\"#2a3f5f\"},\"baxis\":{\"endlinecolor\":\"#2a3f5f\",\"gridcolor\":\"white\",\"linecolor\":\"white\",\"minorgridcolor\":\"white\",\"startlinecolor\":\"#2a3f5f\"},\"type\":\"carpet\"}],\"choropleth\":[{\"colorbar\":{\"outlinewidth\":0,\"ticks\":\"\"},\"type\":\"choropleth\"}],\"contourcarpet\":[{\"colorbar\":{\"outlinewidth\":0,\"ticks\":\"\"},\"type\":\"contourcarpet\"}],\"contour\":[{\"colorbar\":{\"outlinewidth\":0,\"ticks\":\"\"},\"colorscale\":[[0.0,\"#0d0887\"],[0.1111111111111111,\"#46039f\"],[0.2222222222222222,\"#7201a8\"],[0.3333333333333333,\"#9c179e\"],[0.4444444444444444,\"#bd3786\"],[0.5555555555555556,\"#d8576b\"],[0.6666666666666666,\"#ed7953\"],[0.7777777777777778,\"#fb9f3a\"],[0.8888888888888888,\"#fdca26\"],[1.0,\"#f0f921\"]],\"type\":\"contour\"}],\"heatmapgl\":[{\"colorbar\":{\"outlinewidth\":0,\"ticks\":\"\"},\"colorscale\":[[0.0,\"#0d0887\"],[0.1111111111111111,\"#46039f\"],[0.2222222222222222,\"#7201a8\"],[0.3333333333333333,\"#9c179e\"],[0.4444444444444444,\"#bd3786\"],[0.5555555555555556,\"#d8576b\"],[0.6666666666666666,\"#ed7953\"],[0.7777777777777778,\"#fb9f3a\"],[0.8888888888888888,\"#fdca26\"],[1.0,\"#f0f921\"]],\"type\":\"heatmapgl\"}],\"heatmap\":[{\"colorbar\":{\"outlinewidth\":0,\"ticks\":\"\"},\"colorscale\":[[0.0,\"#0d0887\"],[0.1111111111111111,\"#46039f\"],[0.2222222222222222,\"#7201a8\"],[0.3333333333333333,\"#9c179e\"],[0.4444444444444444,\"#bd3786\"],[0.5555555555555556,\"#d8576b\"],[0.6666666666666666,\"#ed7953\"],[0.7777777777777778,\"#fb9f3a\"],[0.8888888888888888,\"#fdca26\"],[1.0,\"#f0f921\"]],\"type\":\"heatmap\"}],\"histogram2dcontour\":[{\"colorbar\":{\"outlinewidth\":0,\"ticks\":\"\"},\"colorscale\":[[0.0,\"#0d0887\"],[0.1111111111111111,\"#46039f\"],[0.2222222222222222,\"#7201a8\"],[0.3333333333333333,\"#9c179e\"],[0.4444444444444444,\"#bd3786\"],[0.5555555555555556,\"#d8576b\"],[0.6666666666666666,\"#ed7953\"],[0.7777777777777778,\"#fb9f3a\"],[0.8888888888888888,\"#fdca26\"],[1.0,\"#f0f921\"]],\"type\":\"histogram2dcontour\"}],\"histogram2d\":[{\"colorbar\":{\"outlinewidth\":0,\"ticks\":\"\"},\"colorscale\":[[0.0,\"#0d0887\"],[0.1111111111111111,\"#46039f\"],[0.2222222222222222,\"#7201a8\"],[0.3333333333333333,\"#9c179e\"],[0.4444444444444444,\"#bd3786\"],[0.5555555555555556,\"#d8576b\"],[0.6666666666666666,\"#ed7953\"],[0.7777777777777778,\"#fb9f3a\"],[0.8888888888888888,\"#fdca26\"],[1.0,\"#f0f921\"]],\"type\":\"histogram2d\"}],\"histogram\":[{\"marker\":{\"pattern\":{\"fillmode\":\"overlay\",\"size\":10,\"solidity\":0.2}},\"type\":\"histogram\"}],\"mesh3d\":[{\"colorbar\":{\"outlinewidth\":0,\"ticks\":\"\"},\"type\":\"mesh3d\"}],\"parcoords\":[{\"line\":{\"colorbar\":{\"outlinewidth\":0,\"ticks\":\"\"}},\"type\":\"parcoords\"}],\"pie\":[{\"automargin\":true,\"type\":\"pie\"}],\"scatter3d\":[{\"line\":{\"colorbar\":{\"outlinewidth\":0,\"ticks\":\"\"}},\"marker\":{\"colorbar\":{\"outlinewidth\":0,\"ticks\":\"\"}},\"type\":\"scatter3d\"}],\"scattercarpet\":[{\"marker\":{\"colorbar\":{\"outlinewidth\":0,\"ticks\":\"\"}},\"type\":\"scattercarpet\"}],\"scattergeo\":[{\"marker\":{\"colorbar\":{\"outlinewidth\":0,\"ticks\":\"\"}},\"type\":\"scattergeo\"}],\"scattergl\":[{\"marker\":{\"colorbar\":{\"outlinewidth\":0,\"ticks\":\"\"}},\"type\":\"scattergl\"}],\"scattermapbox\":[{\"marker\":{\"colorbar\":{\"outlinewidth\":0,\"ticks\":\"\"}},\"type\":\"scattermapbox\"}],\"scatterpolargl\":[{\"marker\":{\"colorbar\":{\"outlinewidth\":0,\"ticks\":\"\"}},\"type\":\"scatterpolargl\"}],\"scatterpolar\":[{\"marker\":{\"colorbar\":{\"outlinewidth\":0,\"ticks\":\"\"}},\"type\":\"scatterpolar\"}],\"scatter\":[{\"fillpattern\":{\"fillmode\":\"overlay\",\"size\":10,\"solidity\":0.2},\"type\":\"scatter\"}],\"scatterternary\":[{\"marker\":{\"colorbar\":{\"outlinewidth\":0,\"ticks\":\"\"}},\"type\":\"scatterternary\"}],\"surface\":[{\"colorbar\":{\"outlinewidth\":0,\"ticks\":\"\"},\"colorscale\":[[0.0,\"#0d0887\"],[0.1111111111111111,\"#46039f\"],[0.2222222222222222,\"#7201a8\"],[0.3333333333333333,\"#9c179e\"],[0.4444444444444444,\"#bd3786\"],[0.5555555555555556,\"#d8576b\"],[0.6666666666666666,\"#ed7953\"],[0.7777777777777778,\"#fb9f3a\"],[0.8888888888888888,\"#fdca26\"],[1.0,\"#f0f921\"]],\"type\":\"surface\"}],\"table\":[{\"cells\":{\"fill\":{\"color\":\"#EBF0F8\"},\"line\":{\"color\":\"white\"}},\"header\":{\"fill\":{\"color\":\"#C8D4E3\"},\"line\":{\"color\":\"white\"}},\"type\":\"table\"}]},\"layout\":{\"annotationdefaults\":{\"arrowcolor\":\"#2a3f5f\",\"arrowhead\":0,\"arrowwidth\":1},\"autotypenumbers\":\"strict\",\"coloraxis\":{\"colorbar\":{\"outlinewidth\":0,\"ticks\":\"\"}},\"colorscale\":{\"diverging\":[[0,\"#8e0152\"],[0.1,\"#c51b7d\"],[0.2,\"#de77ae\"],[0.3,\"#f1b6da\"],[0.4,\"#fde0ef\"],[0.5,\"#f7f7f7\"],[0.6,\"#e6f5d0\"],[0.7,\"#b8e186\"],[0.8,\"#7fbc41\"],[0.9,\"#4d9221\"],[1,\"#276419\"]],\"sequential\":[[0.0,\"#0d0887\"],[0.1111111111111111,\"#46039f\"],[0.2222222222222222,\"#7201a8\"],[0.3333333333333333,\"#9c179e\"],[0.4444444444444444,\"#bd3786\"],[0.5555555555555556,\"#d8576b\"],[0.6666666666666666,\"#ed7953\"],[0.7777777777777778,\"#fb9f3a\"],[0.8888888888888888,\"#fdca26\"],[1.0,\"#f0f921\"]],\"sequentialminus\":[[0.0,\"#0d0887\"],[0.1111111111111111,\"#46039f\"],[0.2222222222222222,\"#7201a8\"],[0.3333333333333333,\"#9c179e\"],[0.4444444444444444,\"#bd3786\"],[0.5555555555555556,\"#d8576b\"],[0.6666666666666666,\"#ed7953\"],[0.7777777777777778,\"#fb9f3a\"],[0.8888888888888888,\"#fdca26\"],[1.0,\"#f0f921\"]]},\"colorway\":[\"#636efa\",\"#EF553B\",\"#00cc96\",\"#ab63fa\",\"#FFA15A\",\"#19d3f3\",\"#FF6692\",\"#B6E880\",\"#FF97FF\",\"#FECB52\"],\"font\":{\"color\":\"#2a3f5f\"},\"geo\":{\"bgcolor\":\"white\",\"lakecolor\":\"white\",\"landcolor\":\"#E5ECF6\",\"showlakes\":true,\"showland\":true,\"subunitcolor\":\"white\"},\"hoverlabel\":{\"align\":\"left\"},\"hovermode\":\"closest\",\"mapbox\":{\"style\":\"light\"},\"paper_bgcolor\":\"white\",\"plot_bgcolor\":\"#E5ECF6\",\"polar\":{\"angularaxis\":{\"gridcolor\":\"white\",\"linecolor\":\"white\",\"ticks\":\"\"},\"bgcolor\":\"#E5ECF6\",\"radialaxis\":{\"gridcolor\":\"white\",\"linecolor\":\"white\",\"ticks\":\"\"}},\"scene\":{\"xaxis\":{\"backgroundcolor\":\"#E5ECF6\",\"gridcolor\":\"white\",\"gridwidth\":2,\"linecolor\":\"white\",\"showbackground\":true,\"ticks\":\"\",\"zerolinecolor\":\"white\"},\"yaxis\":{\"backgroundcolor\":\"#E5ECF6\",\"gridcolor\":\"white\",\"gridwidth\":2,\"linecolor\":\"white\",\"showbackground\":true,\"ticks\":\"\",\"zerolinecolor\":\"white\"},\"zaxis\":{\"backgroundcolor\":\"#E5ECF6\",\"gridcolor\":\"white\",\"gridwidth\":2,\"linecolor\":\"white\",\"showbackground\":true,\"ticks\":\"\",\"zerolinecolor\":\"white\"}},\"shapedefaults\":{\"line\":{\"color\":\"#2a3f5f\"}},\"ternary\":{\"aaxis\":{\"gridcolor\":\"white\",\"linecolor\":\"white\",\"ticks\":\"\"},\"baxis\":{\"gridcolor\":\"white\",\"linecolor\":\"white\",\"ticks\":\"\"},\"bgcolor\":\"#E5ECF6\",\"caxis\":{\"gridcolor\":\"white\",\"linecolor\":\"white\",\"ticks\":\"\"}},\"title\":{\"x\":0.05},\"xaxis\":{\"automargin\":true,\"gridcolor\":\"white\",\"linecolor\":\"white\",\"ticks\":\"\",\"title\":{\"standoff\":15},\"zerolinecolor\":\"white\",\"zerolinewidth\":2},\"yaxis\":{\"automargin\":true,\"gridcolor\":\"white\",\"linecolor\":\"white\",\"ticks\":\"\",\"title\":{\"standoff\":15},\"zerolinecolor\":\"white\",\"zerolinewidth\":2}}},\"title\":{\"text\":\"Tree Visualization\"},\"width\":1500,\"xaxis\":{\"showgrid\":false,\"showline\":false,\"showticklabels\":false,\"zeroline\":false},\"yaxis\":{\"showgrid\":false,\"showline\":false,\"showticklabels\":false,\"zeroline\":false}},                        {\"responsive\": true}                    ).then(function(){\n",
       "                            \n",
       "var gd = document.getElementById('23555aa4-f4f9-4977-a137-c0166845498b');\n",
       "var x = new MutationObserver(function (mutations, observer) {{\n",
       "        var display = window.getComputedStyle(gd).display;\n",
       "        if (!display || display === 'none') {{\n",
       "            console.log([gd, 'removed!']);\n",
       "            Plotly.purge(gd);\n",
       "            observer.disconnect();\n",
       "        }}\n",
       "}});\n",
       "\n",
       "// Listen for the removal of the full notebook cells\n",
       "var notebookContainer = gd.closest('#notebook-container');\n",
       "if (notebookContainer) {{\n",
       "    x.observe(notebookContainer, {childList: true});\n",
       "}}\n",
       "\n",
       "// Listen for the clearing of the current output cell\n",
       "var outputEl = gd.closest('.output');\n",
       "if (outputEl) {{\n",
       "    x.observe(outputEl, {childList: true});\n",
       "}}\n",
       "\n",
       "                        })                };                });            </script>        </div>"
      ]
     },
     "metadata": {},
     "output_type": "display_data"
    }
   ],
   "execution_count": 2
  },
  {
   "metadata": {},
   "cell_type": "code",
   "outputs": [],
   "execution_count": null,
   "source": "",
   "id": "fdafa725979995c6"
  }
 ],
 "metadata": {
  "kernelspec": {
   "display_name": "Python 3",
   "language": "python",
   "name": "python3"
  },
  "language_info": {
   "codemirror_mode": {
    "name": "ipython",
    "version": 2
   },
   "file_extension": ".py",
   "mimetype": "text/x-python",
   "name": "python",
   "nbconvert_exporter": "python",
   "pygments_lexer": "ipython2",
   "version": "2.7.6"
  }
 },
 "nbformat": 4,
 "nbformat_minor": 5
}
