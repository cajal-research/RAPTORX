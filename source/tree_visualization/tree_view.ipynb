{
 "cells": [
  {
   "cell_type": "code",
   "id": "initial_id",
   "metadata": {
    "collapsed": true,
    "ExecuteTime": {
     "end_time": "2024-06-23T17:27:04.221612Z",
     "start_time": "2024-06-23T17:27:04.136508Z"
    }
   },
   "source": [
    "from source.tree_visualization.visualize_start import load_tree\n",
    "from source.paths.path_reference import get_tree_pkl_path\n",
    "\n",
    "pkl_path = get_tree_pkl_path()\n",
    "tree = load_tree(pkl_path)"
   ],
   "outputs": [],
   "execution_count": 1
  },
  {
   "metadata": {
    "ExecuteTime": {
     "end_time": "2024-06-23T17:27:05.433113Z",
     "start_time": "2024-06-23T17:27:04.695954Z"
    }
   },
   "cell_type": "code",
   "source": [
    "from source.tree_visualization.visualize_start import visualize_tree_graph\n",
    "\n",
    "visualize_tree_graph(tree, jupyter=True, special_nodes=[-1, 37, 9])"
   ],
   "id": "bba64411a494258a",
   "outputs": [
    {
     "data": {
      "text/html": [
       "        <script type=\"text/javascript\">\n",
       "        window.PlotlyConfig = {MathJaxConfig: 'local'};\n",
       "        if (window.MathJax && window.MathJax.Hub && window.MathJax.Hub.Config) {window.MathJax.Hub.Config({SVG: {font: \"STIX-Web\"}});}\n",
       "        if (typeof require !== 'undefined') {\n",
       "        require.undef(\"plotly\");\n",
       "        requirejs.config({\n",
       "            paths: {\n",
       "                'plotly': ['https://cdn.plot.ly/plotly-2.32.0.min']\n",
       "            }\n",
       "        });\n",
       "        require(['plotly'], function(Plotly) {\n",
       "            window._Plotly = Plotly;\n",
       "        });\n",
       "        }\n",
       "        </script>\n",
       "        "
      ]
     },
     "metadata": {},
     "output_type": "display_data"
    },
    {
     "data": {
      "application/vnd.plotly.v1+json": {
       "data": [
        {
         "hoverinfo": "none",
         "line": {
          "color": "rgb(210,210,210)",
          "width": 2
         },
         "mode": "lines",
         "x": [
          0.0,
          -16.083333333333336,
          null
         ],
         "y": [
          4.0,
          3.0,
          null
         ],
         "type": "scatter"
        },
        {
         "hoverinfo": "none",
         "line": {
          "color": "rgb(210,210,210)",
          "width": 2
         },
         "mode": "lines",
         "x": [
          -16.083333333333336,
          -19.083333333333336,
          null
         ],
         "y": [
          3.0,
          2.0,
          null
         ],
         "type": "scatter"
        },
        {
         "hoverinfo": "none",
         "line": {
          "color": "rgb(210,210,210)",
          "width": 2
         },
         "mode": "lines",
         "x": [
          -16.083333333333336,
          -18.083333333333336,
          null
         ],
         "y": [
          3.0,
          2.0,
          null
         ],
         "type": "scatter"
        },
        {
         "hoverinfo": "none",
         "line": {
          "color": "rgb(210,210,210)",
          "width": 2
         },
         "mode": "lines",
         "x": [
          -16.083333333333336,
          -17.083333333333336,
          null
         ],
         "y": [
          3.0,
          2.0,
          null
         ],
         "type": "scatter"
        },
        {
         "hoverinfo": "none",
         "line": {
          "color": "rgb(210,210,210)",
          "width": 2
         },
         "mode": "lines",
         "x": [
          -16.083333333333336,
          -16.083333333333336,
          null
         ],
         "y": [
          3.0,
          2.0,
          null
         ],
         "type": "scatter"
        },
        {
         "hoverinfo": "none",
         "line": {
          "color": "rgb(210,210,210)",
          "width": 2
         },
         "mode": "lines",
         "x": [
          -16.083333333333336,
          -15.083333333333336,
          null
         ],
         "y": [
          3.0,
          2.0,
          null
         ],
         "type": "scatter"
        },
        {
         "hoverinfo": "none",
         "line": {
          "color": "rgb(210,210,210)",
          "width": 2
         },
         "mode": "lines",
         "x": [
          -16.083333333333336,
          -14.083333333333336,
          null
         ],
         "y": [
          3.0,
          2.0,
          null
         ],
         "type": "scatter"
        },
        {
         "hoverinfo": "none",
         "line": {
          "color": "rgb(210,210,210)",
          "width": 2
         },
         "mode": "lines",
         "x": [
          -16.083333333333336,
          -13.083333333333336,
          null
         ],
         "y": [
          3.0,
          2.0,
          null
         ],
         "type": "scatter"
        },
        {
         "hoverinfo": "none",
         "line": {
          "color": "rgb(210,210,210)",
          "width": 2
         },
         "mode": "lines",
         "x": [
          0.0,
          -9.083333333333336,
          null
         ],
         "y": [
          4.0,
          3.0,
          null
         ],
         "type": "scatter"
        },
        {
         "hoverinfo": "none",
         "line": {
          "color": "rgb(210,210,210)",
          "width": 2
         },
         "mode": "lines",
         "x": [
          -9.083333333333336,
          -12.083333333333336,
          null
         ],
         "y": [
          3.0,
          2.0,
          null
         ],
         "type": "scatter"
        },
        {
         "hoverinfo": "none",
         "line": {
          "color": "rgb(210,210,210)",
          "width": 2
         },
         "mode": "lines",
         "x": [
          -9.083333333333336,
          -11.083333333333336,
          null
         ],
         "y": [
          3.0,
          2.0,
          null
         ],
         "type": "scatter"
        },
        {
         "hoverinfo": "none",
         "line": {
          "color": "rgb(210,210,210)",
          "width": 2
         },
         "mode": "lines",
         "x": [
          -9.083333333333336,
          -10.083333333333336,
          null
         ],
         "y": [
          3.0,
          2.0,
          null
         ],
         "type": "scatter"
        },
        {
         "hoverinfo": "none",
         "line": {
          "color": "rgb(210,210,210)",
          "width": 2
         },
         "mode": "lines",
         "x": [
          -9.083333333333336,
          -9.083333333333336,
          null
         ],
         "y": [
          3.0,
          2.0,
          null
         ],
         "type": "scatter"
        },
        {
         "hoverinfo": "none",
         "line": {
          "color": "rgb(210,210,210)",
          "width": 2
         },
         "mode": "lines",
         "x": [
          -9.083333333333336,
          -8.083333333333336,
          null
         ],
         "y": [
          3.0,
          2.0,
          null
         ],
         "type": "scatter"
        },
        {
         "hoverinfo": "none",
         "line": {
          "color": "rgb(210,210,210)",
          "width": 2
         },
         "mode": "lines",
         "x": [
          -9.083333333333336,
          -7.083333333333336,
          null
         ],
         "y": [
          3.0,
          2.0,
          null
         ],
         "type": "scatter"
        },
        {
         "hoverinfo": "none",
         "line": {
          "color": "rgb(210,210,210)",
          "width": 2
         },
         "mode": "lines",
         "x": [
          -9.083333333333336,
          -6.083333333333336,
          null
         ],
         "y": [
          3.0,
          2.0,
          null
         ],
         "type": "scatter"
        },
        {
         "hoverinfo": "none",
         "line": {
          "color": "red",
          "width": 2
         },
         "mode": "lines",
         "x": [
          0.0,
          -2.5833333333333357,
          null
         ],
         "y": [
          4.0,
          3.0,
          null
         ],
         "type": "scatter"
        },
        {
         "hoverinfo": "none",
         "line": {
          "color": "rgb(210,210,210)",
          "width": 2
         },
         "mode": "lines",
         "x": [
          -2.5833333333333357,
          -5.083333333333336,
          null
         ],
         "y": [
          3.0,
          2.0,
          null
         ],
         "type": "scatter"
        },
        {
         "hoverinfo": "none",
         "line": {
          "color": "rgb(210,210,210)",
          "width": 2
         },
         "mode": "lines",
         "x": [
          -2.5833333333333357,
          -4.083333333333336,
          null
         ],
         "y": [
          3.0,
          2.0,
          null
         ],
         "type": "scatter"
        },
        {
         "hoverinfo": "none",
         "line": {
          "color": "red",
          "width": 2
         },
         "mode": "lines",
         "x": [
          -2.5833333333333357,
          -3.0833333333333357,
          null
         ],
         "y": [
          3.0,
          2.0,
          null
         ],
         "type": "scatter"
        },
        {
         "hoverinfo": "none",
         "line": {
          "color": "rgb(210,210,210)",
          "width": 2
         },
         "mode": "lines",
         "x": [
          -2.5833333333333357,
          -2.0833333333333357,
          null
         ],
         "y": [
          3.0,
          2.0,
          null
         ],
         "type": "scatter"
        },
        {
         "hoverinfo": "none",
         "line": {
          "color": "rgb(210,210,210)",
          "width": 2
         },
         "mode": "lines",
         "x": [
          -2.5833333333333357,
          -1.0833333333333357,
          null
         ],
         "y": [
          3.0,
          2.0,
          null
         ],
         "type": "scatter"
        },
        {
         "hoverinfo": "none",
         "line": {
          "color": "rgb(210,210,210)",
          "width": 2
         },
         "mode": "lines",
         "x": [
          -2.5833333333333357,
          -0.0833333333333357,
          null
         ],
         "y": [
          3.0,
          2.0,
          null
         ],
         "type": "scatter"
        },
        {
         "hoverinfo": "none",
         "line": {
          "color": "rgb(210,210,210)",
          "width": 2
         },
         "mode": "lines",
         "x": [
          0.0,
          3.9166666666666643,
          null
         ],
         "y": [
          4.0,
          3.0,
          null
         ],
         "type": "scatter"
        },
        {
         "hoverinfo": "none",
         "line": {
          "color": "rgb(210,210,210)",
          "width": 2
         },
         "mode": "lines",
         "x": [
          3.9166666666666643,
          0.9166666666666643,
          null
         ],
         "y": [
          3.0,
          2.0,
          null
         ],
         "type": "scatter"
        },
        {
         "hoverinfo": "none",
         "line": {
          "color": "rgb(210,210,210)",
          "width": 2
         },
         "mode": "lines",
         "x": [
          3.9166666666666643,
          1.9166666666666643,
          null
         ],
         "y": [
          3.0,
          2.0,
          null
         ],
         "type": "scatter"
        },
        {
         "hoverinfo": "none",
         "line": {
          "color": "rgb(210,210,210)",
          "width": 2
         },
         "mode": "lines",
         "x": [
          3.9166666666666643,
          2.9166666666666643,
          null
         ],
         "y": [
          3.0,
          2.0,
          null
         ],
         "type": "scatter"
        },
        {
         "hoverinfo": "none",
         "line": {
          "color": "rgb(210,210,210)",
          "width": 2
         },
         "mode": "lines",
         "x": [
          3.9166666666666643,
          3.9166666666666643,
          null
         ],
         "y": [
          3.0,
          2.0,
          null
         ],
         "type": "scatter"
        },
        {
         "hoverinfo": "none",
         "line": {
          "color": "rgb(210,210,210)",
          "width": 2
         },
         "mode": "lines",
         "x": [
          3.9166666666666643,
          4.916666666666664,
          null
         ],
         "y": [
          3.0,
          2.0,
          null
         ],
         "type": "scatter"
        },
        {
         "hoverinfo": "none",
         "line": {
          "color": "rgb(210,210,210)",
          "width": 2
         },
         "mode": "lines",
         "x": [
          3.9166666666666643,
          5.916666666666664,
          null
         ],
         "y": [
          3.0,
          2.0,
          null
         ],
         "type": "scatter"
        },
        {
         "hoverinfo": "none",
         "line": {
          "color": "rgb(210,210,210)",
          "width": 2
         },
         "mode": "lines",
         "x": [
          3.9166666666666643,
          6.916666666666664,
          null
         ],
         "y": [
          3.0,
          2.0,
          null
         ],
         "type": "scatter"
        },
        {
         "hoverinfo": "none",
         "line": {
          "color": "rgb(210,210,210)",
          "width": 2
         },
         "mode": "lines",
         "x": [
          0.0,
          9.916666666666664,
          null
         ],
         "y": [
          4.0,
          3.0,
          null
         ],
         "type": "scatter"
        },
        {
         "hoverinfo": "none",
         "line": {
          "color": "rgb(210,210,210)",
          "width": 2
         },
         "mode": "lines",
         "x": [
          9.916666666666664,
          7.916666666666664,
          null
         ],
         "y": [
          3.0,
          2.0,
          null
         ],
         "type": "scatter"
        },
        {
         "hoverinfo": "none",
         "line": {
          "color": "rgb(210,210,210)",
          "width": 2
         },
         "mode": "lines",
         "x": [
          9.916666666666664,
          8.916666666666664,
          null
         ],
         "y": [
          3.0,
          2.0,
          null
         ],
         "type": "scatter"
        },
        {
         "hoverinfo": "none",
         "line": {
          "color": "rgb(210,210,210)",
          "width": 2
         },
         "mode": "lines",
         "x": [
          9.916666666666664,
          9.916666666666664,
          null
         ],
         "y": [
          3.0,
          2.0,
          null
         ],
         "type": "scatter"
        },
        {
         "hoverinfo": "none",
         "line": {
          "color": "rgb(210,210,210)",
          "width": 2
         },
         "mode": "lines",
         "x": [
          9.916666666666664,
          10.916666666666664,
          null
         ],
         "y": [
          3.0,
          2.0,
          null
         ],
         "type": "scatter"
        },
        {
         "hoverinfo": "none",
         "line": {
          "color": "rgb(210,210,210)",
          "width": 2
         },
         "mode": "lines",
         "x": [
          9.916666666666664,
          11.916666666666664,
          null
         ],
         "y": [
          3.0,
          2.0,
          null
         ],
         "type": "scatter"
        },
        {
         "hoverinfo": "none",
         "line": {
          "color": "rgb(210,210,210)",
          "width": 2
         },
         "mode": "lines",
         "x": [
          0.0,
          13.916666666666664,
          null
         ],
         "y": [
          4.0,
          3.0,
          null
         ],
         "type": "scatter"
        },
        {
         "hoverinfo": "none",
         "line": {
          "color": "rgb(210,210,210)",
          "width": 2
         },
         "mode": "lines",
         "x": [
          13.916666666666664,
          12.916666666666664,
          null
         ],
         "y": [
          3.0,
          2.0,
          null
         ],
         "type": "scatter"
        },
        {
         "hoverinfo": "none",
         "line": {
          "color": "rgb(210,210,210)",
          "width": 2
         },
         "mode": "lines",
         "x": [
          13.916666666666664,
          13.916666666666664,
          null
         ],
         "y": [
          3.0,
          2.0,
          null
         ],
         "type": "scatter"
        },
        {
         "hoverinfo": "none",
         "line": {
          "color": "rgb(210,210,210)",
          "width": 2
         },
         "mode": "lines",
         "x": [
          13.916666666666664,
          14.916666666666664,
          null
         ],
         "y": [
          3.0,
          2.0,
          null
         ],
         "type": "scatter"
        },
        {
         "hoverinfo": "text",
         "hovertext": [
          "• [Node #-1]<br>Root Node",
          "• [Node #35]<br>In this tale, a kind-hearted father asks his two step-daughters what they want h<br>im to bring back for them. One asks for beautiful dresses, while the other reque<br>sts pearls and jewels. When the father asks Cinderella what she would like, she <br>simply asks him to break off the first branch that knocks against his hat on his<br> way home. On his journey, a hazel twig knocks off his hat, and he fulfills the <br>wishes of his step-daughters and brings the hazel branch to",
          "• [Node #4]<br>asked his two step-daughters what he should bring back for them Beautiful dresse<br>s, said one, pearls and jewels, said the second And you, cinderella, said he, wh<br>at will you have   Father break off for me the first branch which knocks against<br> your hat on your way home   So he bought beautiful dresses, pearls and jewels f<br>or his two step-daughters, and on his way home, as he was riding through a green<br> thicket, a hazel twig brushed against him and",
          "• [Node #5]<br>knocked off his hat   Then he broke off the branch and took it with him   When h<br>e reached home he gave his step-daughters the things which they had wished for, <br>and to cinderella he gave the branch from the hazel-bush   Cinderella thanked hi<br>m, went to her mother's grave and planted the branch on it, and wept so much tha<br>t the tears fell down on it and watered it   And it grew and became a handsome t<br>ree",
          "• [Node #6]<br> Thrice a day cinderella went and sat beneath it, and wept and prayed, and a lit<br>tle white bird always came on the tree, and if cinderella expressed a wish, the <br>bird threw down to her what she had wished for It happened, however, that the ki<br>ng gave orders for a festival which was to last three days, and to which all the<br> beautiful young girls in the country were invited, in order that his son might <br>choose himself a bride",
          "• [Node #18]<br>a dim little oil-lamp was burning on the mantle-piece, for cinderella had jumped<br> quickly down from the back of the pigeon-house and had run to the little hazel-<br>tree, and there she had taken off her beautiful clothes and laid them on the gra<br>ve, and the bird had taken them away again, and then she had seated herself in t<br>he kitchen amongst the ashes in her grey gown Next day when the festival began a<br>fresh, and her parents and",
          "• [Node #19]<br>the step-sisters had gone once more, cinderella went to the hazel-tree and said <br>-      shiver and quiver, my little tree,      silver and gold throw down over m<br>e Then the bird threw down a much more beautiful dress than on the preceding day<br>  And when cinderella appeared at the wedding in this dress, every one was aston<br>ished at her beauty   The king's son had waited until she came, and instantly to<br>ok her by the hand",
          "• [Node #21]<br>between the branches like a squirrel that the king's son did not know where she <br>was gone   He waited until her father came, and said to him, the unknown maiden <br>has escaped from me, and I believe she has climbed up the pear-tree   The father<br> thought, can it be cinderella   And had an axe brought and cut the tree down, b<br>ut no one was on it   And when they got into the",
          "• [Node #22]<br>kitchen, cinderella lay there among the ashes, as usual, for she had jumped down<br> on the other side of the tree, had taken the beautiful dress to the bird on the<br> little hazel-tree, and put on her grey gown On the third day, when the parents <br>and sisters had gone away, cinderella went once more to her mother's grave and s<br>aid to the little tree -      shiver and quiver, my little tree,      silver and<br> gold throw down over me",
          "• [Node #36]<br>Summary:<br><br>In this story, a father tells his daughters that only the one whose foot fits a <br>golden slipper will be his wife. The two sisters are hopeful as they both have p<br>retty feet, but the eldest sister's foot is too big for the slipper. At her moth<br>er's urging, she cuts off her toe to make the slipper fit, and she marries the k<br>ing's son. However, on their way to the palace, two pigeons warn that the shoe i<br>s too small and",
          "• [Node #32]<br>however, took cinderella on his horse and rode away with her   As they passed by<br> the hazel-tree, the two white doves cried -      turn and peep, turn and peep, <br>     no blood is in the shoe,      the shoe is not too small for her,      the t<br>rue bride rides with you, and when they had cried that, the two came flying down<br> and placed themselves on cinderella's shoulders, one on the right,",
          "• [Node #25]<br>the father, and said to him, no one shall be my wife but she whose foot this gol<br>den slipper fits   Then were the two sisters glad, for they had pretty feet   Th<br>e eldest went with the shoe into her room and wanted to try it on, and her mothe<br>r stood by   But she could not get her big toe into it, and the shoe was too sma<br>ll for her   Then her mother gave her a knife and said, cut the toe off,",
          "• [Node #26]<br>when you are queen you will have no more need to go on foot   The maiden cut the<br> toe off, forced the foot into the shoe, swallowed the pain, and went out to the<br> king's son   Then he took her on his his horse as his bride and rode away with <br>her   They were obliged, however, to pass the grave, and there, on the hazel-tre<br>e, sat the two pigeons and cried -      turn and peep, turn and peep,",
          "• [Node #27]<br>     there's blood within the shoe,      the shoe it is too small for her,      <br>the true bride waits for you Then he looked at her foot and saw how the blood wa<br>s trickling from it   He turned his horse round and took the false bride home ag<br>ain, and said she was not the true one, and that the other sister was to put the<br> shoe on   Then this one went into her chamber and got her toes safely into the <br>shoe, but her heel was too large",
          "• [Node #28]<br>  So her mother gave her a knife and said,  cut a bit off your heel, when you ar<br>e queen you will have no more need to go on foot   The maiden cut a bit off her <br>heel, forced her foot into the shoe, swallowed the pain, and went out to the kin<br>g's son   He took her on his horse as his bride, and rode away with her, but whe<br>n they passed by the hazel-tree, the two pigeons sat on it and cried -",
          "• [Node #29]<br>     turn and peep, turn and peep,      there's blood within the shoe,      the <br>shoe it is too small for her,      the true bride waits for you He looked down a<br>t her foot and saw how the blood was running out of her shoe, and how it had sta<br>ined her white stocking quite red   Then he turned his horse and took the false <br>bride home again   This also is not the right one, said he, have you no other da<br>ughter",
          "• [Node #31]<br>before the king's son, who gave her the golden shoe   Then she seated herself on<br> a stool, drew her foot out of the heavy wooden shoe, and put it into the slippe<br>r, which fitted like a glove   And when she rose up and the king's son looked at<br> her face he recognized the beautiful maiden who had danced with him and cried, <br>that is the true bride   The step-mother and the two sisters were horrified and <br>became pale with rage, he,",
          "• [Node #37]<br>Summary:<br><br>A rich man's wife falls sick and, feeling her end approaching, tells her daughte<br>r to be good and pious so that God will protect her. The mother passes away, and<br> the daughter visits her grave daily, remaining pious and good. When winter come<br>s, the snow covers the grave, and by spring, the man marries another woman who b<br>rings her two beautiful but wicked daughters into the house. The step-daughters <br>mistreat the kind maiden, calling her names and making her work",
          "• [Node #0]<br>The wife of a rich man fell sick, and as she felt that her end was drawing near,<br> she called her only daughter to her bedside and said, dear child, be good and p<br>ious, and then the good God will always protect you, and I will look down on you<br> from heaven and be near you   Thereupon she closed her eyes and departed   Ever<br>y day the maiden went out to her mother's grave, and wept, and she remained piou<br>s and good   When winter came",
          "• [Node #1]<br>the snow spread a white sheet over the grave, and by the time the spring sun had<br> drawn it off again, the man had taken another wife The woman had brought with h<br>er into the house two daughters, who were beautiful and fair of face, but vile a<br>nd black of heart Now began a bad time for the poor step-child   Is the stupid g<br>oose to sit in the parlor with us, they said   He who wants to eat bread must ea<br>rn it   Out with the kitchen-wench",
          "• [Node #9]<br>back-door into the garden, and called, you tame pigeons, you turtle-doves, and a<br>ll you birds beneath the sky, come and help me to pick      the good into the po<br>t,      the bad into the crop Then two white pigeons came in by the kitchen wind<br>ow, and afterwards the turtle-doves, and at last all the birds beneath the sky, <br>came whirring and crowding in, and alighted amongst the ashes",
          "• [Node #10]<br>And the pigeons nodded with their heads and began pick, pick, pick, pick, and th<br>e rest began also pick, pick, pick, pick, and gathered all the good grains into <br>the dish   Hardly had one hour passed before they had finished, and all flew out<br> again   Then the girl took the dish to her step-mother, and was glad, and belie<br>ved that now she would be allowed to go with them to the festival",
          "• [Node #12]<br>dishes of lentils amongst the ashes, the maiden went through the back-door into <br>the garden and cried, you tame pigeons, you turtle-doves, and all you birds bene<br>ath the sky, come and help me to pick      the good into the pot,      the bad i<br>nto the crop Then two white pigeons came in by the kitchen-window, and afterward<br>s the turtle-doves, and at length all the birds beneath the",
          "• [Node #13]<br>sky, came whirring and crowding in, and alighted amongst the ashes   And the dov<br>es nodded with their heads and began pick, pick, pick, pick, and the others bega<br>n also pick, pick, pick, pick, and gathered all the good seeds into the dishes, <br>and before half an hour was over they had already finished, and all flew out aga<br>in Then the maiden was delighted, and believed that she might now go with them t<br>o the wedding",
          "• [Node #38]<br>In the story of \"Cinderella,\" a proud princess is stripped of her beautiful clot<br>hes, forced to wear old, grey attire and wooden shoes, and made to work hard in <br>the kitchen by her cruel stepmother and stepsisters. They mock her and make her <br>pick peas and lentils from the ashes, giving her the nickname \"Cinderella\" due t<br>o her dusty appearance. Her stepmother refuses to let her attend the royal festi<br>val, despite Cinderella's pleas. When a mysterious maiden leaps",
          "• [Node #2]<br>  They took her pretty clothes away from her, put an old grey bedgown on her, an<br>d gave her wooden shoes   Just look at the proud princess, how decked out she is<br>, they cried, and laughed, and led her into the kitchen There she had to do hard<br> work from morning till night, get up before daybreak, carry water, light fires,<br> cook and wash   Besides this, the sisters did her every imaginable injury - the<br>y mocked her",
          "• [Node #3]<br>and emptied her peas and lentils into the ashes, so that she was forced to sit a<br>nd pick them out again   In the evening when she had worked till she was weary s<br>he had no bed to go to, but had to sleep by the hearth in the cinders   And as o<br>n that account she always looked dusty and dirty, they called her cinderella It <br>happened that the father was once going to the fair, and he",
          "• [Node #8]<br>  You go, cinderella, said she, covered in dust and dirt as you are, and would g<br>o to the festival   You have no clothes and shoes, and yet would dance   As, how<br>ever, cinderella went on asking, the step-mother said at last, I have emptied a <br>dish of lentils into the ashes for you, if you have picked them out again in two<br> hours, you shall go with us   The maiden went through the",
          "• [Node #11]<br>But the step-mother said, no, cinderella, you have no clothes and you can not da<br>nce   You would only be laughed at   And as cinderella wept at this, the step-mo<br>ther said, if you can pick two dishes of lentils out of the ashes for me in one <br>hour, you shall go with us   And she thought to herself, that she most certainly<br> cannot do again   When the step-mother had emptied the two",
          "• [Node #14]<br>  But the step-mother said, all this will not help   You cannot go with us, for <br>you have no clothes and can not dance   We should be ashamed of you   On this sh<br>e turned her back on cinderella, and hurried away with her two proud daughters A<br>s no one was now at home, cinderella went to her mother's grave beneath the haze<br>l-tree, and cried -      shiver and quiver, little tree,      silver and gold th<br>row down over me",
          "• [Node #17]<br>pigeon-house   The king's son waited until her father came, and then he told him<br> that the unknown maiden had leapt into the pigeon-house   The old man thought, <br>can it be cinderella   And they had to bring him an axe and a pickaxe that he mi<br>ght hew the pigeon-house to pieces, but no one was inside it   And when they got<br> home cinderella lay in her dirty clothes among the ashes, and",
          "• [Node #30]<br>  No, said the man, there is still a little stunted kitchen-wench which my late <br>wife left behind her, but she cannot possibly be the bride   The king's son said<br> he was to send her up to him, but the mother answered, oh, no, she is much too <br>dirty, she cannot show herself   But he absolutely insisted on it, and cinderell<br>a had to be called   She first washed her hands and face clean, and then went an<br>d bowed down",
          "• [Node #39]<br>Cinderella received a gold and silver dress, along with embroidered slippers, fr<br>om a bird as she prepared for a wedding. She wore the dress and looked so stunni<br>ng that her step-sisters and step-mother mistook her for a foreign princess. The<br>y didn't recognize her and assumed Cinderella was still at home doing menial cho<br>res. At the wedding, the prince danced only with Cinderella, refusing other part<br>ners, and even attempted to follow her home. However, Cinderella managed to esca<br>pe",
          "• [Node #15]<br>Then the bird threw a gold and silver dress down to her, and slippers embroidere<br>d with silk and silver   She put on the dress with all speed, and went to the we<br>dding   Her step-sisters and the step-mother however did not know her, and thoug<br>ht she must be a foreign princess, for she looked so beautiful in the golden dre<br>ss They never once thought of cinderella, and believed that she was sitting at h<br>ome in the dirt, picking lentils out of the ashes   The",
          "• [Node #16]<br>prince approached her, took her by the hand and danced with her He would dance w<br>ith no other maiden, and never let loose of her hand, and if any one else came t<br>o invite her, he said, this is my partner She danced till it was evening, and th<br>en she wanted to go home But the king's son said, I will go with you and bear yo<br>u company, for he wished to see to whom the beautiful maiden belonged She escape<br>d from him, however, and sprang into the",
          "• [Node #20]<br>and danced with no one but her   When others came and invited her, he said, this<br> is my partner   When evening came she wished to leave, and the king's son follo<br>wed her and wanted to see into which house she went   But she sprang away from h<br>im, and into the garden behind the house   Therein stood a beautiful tall tree o<br>n which hung the most magnificent pears   She clambered so nimbly",
          "• [Node #23]<br>And now the bird threw down to her a dress which was more splendid and magnifice<br>nt than any she had yet had, and the slippers were golden   And when she went to<br> the festival in the dress, no one knew how to speak for astonishment   The king<br>'s son danced with her only, and if any one invited her to dance, he said this i<br>s my partner When evening came, cinderella wished to leave, and the king's",
          "• [Node #24]<br>son was anxious to go with her, but she escaped from him so quickly that he coul<br>d not follow her   The king's son, however, had employed a ruse, and had caused <br>the whole staircase to be smeared with pitch, and there, when she ran down, had <br>the maiden's left slipper remained stuck   The king's son picked it up, and it w<br>as small and dainty, and all golden   Next morning, he went with it to",
          "• [Node #40]<br>Two step-sisters are invited to a wedding at the king's palace and ask Cinderell<br>a to help them get ready. Cinderella, although happy for them, wishes she could <br>go to the dance as well. The step-mother refuses Cinderella's request to attend.<br> Later, when the king's son is to marry, the step-sisters want to gain favor wit<br>h Cinderella. During the ceremony, pigeons peck out one eye from each sister on <br>different occasions as punishment for their wickedness",
          "• [Node #33]<br>the other on the left, and remained sitting there When the wedding with the king<br>'s son was to be celebrated, the two false sisters came and wanted to get into f<br>avor with cinderella and share her good fortune   When the betrothed couple went<br> to church, the elder was at the right side and the younger at the left, and the<br> pigeons pecked out one eye from each of them   Afterwards as they came back the<br> elder was at",
          "• [Node #34]<br>the left, and the younger at the right, and then the pigeons pecked out the othe<br>r eye from each   And thus, for their wickedness and falsehood, they were punish<br>ed with blindness all their days",
          "• [Node #7]<br>  When the two step-sisters heard that they too were to appear among the number,<br> they were delighted, called cinderella and said, comb our hair for us, brush ou<br>r shoes and fasten our buckles, for we are going to the wedding at the king's pa<br>lace Cinderella obeyed, but wept, because she too would have liked to go with th<br>em to the dance, and begged her step-mother to allow her to do so"
         ],
         "marker": {
          "color": [
           "red",
           "#6175c1",
           "#6175c1",
           "#6175c1",
           "#6175c1",
           "#6175c1",
           "#6175c1",
           "#6175c1",
           "#6175c1",
           "#6175c1",
           "#6175c1",
           "#6175c1",
           "#6175c1",
           "#6175c1",
           "#6175c1",
           "#6175c1",
           "#6175c1",
           "red",
           "#6175c1",
           "#6175c1",
           "red",
           "#6175c1",
           "#6175c1",
           "#6175c1",
           "#6175c1",
           "#6175c1",
           "#6175c1",
           "#6175c1",
           "#6175c1",
           "#6175c1",
           "#6175c1",
           "#6175c1",
           "#6175c1",
           "#6175c1",
           "#6175c1",
           "#6175c1",
           "#6175c1",
           "#6175c1",
           "#6175c1",
           "#6175c1",
           "#6175c1",
           "#6175c1"
          ],
          "line": {
           "color": "#000000",
           "width": 2
          },
          "size": 35,
          "symbol": "circle-dot"
         },
         "mode": "markers+text",
         "name": "nodes",
         "opacity": 0.8,
         "text": [
          "-1",
          "35",
          "4",
          "5",
          "6",
          "18",
          "19",
          "21",
          "22",
          "36",
          "32",
          "25",
          "26",
          "27",
          "28",
          "29",
          "31",
          "37",
          "0",
          "1",
          "9",
          "10",
          "12",
          "13",
          "38",
          "2",
          "3",
          "8",
          "11",
          "14",
          "17",
          "30",
          "39",
          "15",
          "16",
          "20",
          "23",
          "24",
          "40",
          "33",
          "34",
          "7"
         ],
         "textposition": "top center",
         "x": [
          0.0,
          -16.083333333333336,
          -19.083333333333336,
          -18.083333333333336,
          -17.083333333333336,
          -16.083333333333336,
          -15.083333333333336,
          -14.083333333333336,
          -13.083333333333336,
          -9.083333333333336,
          -12.083333333333336,
          -11.083333333333336,
          -10.083333333333336,
          -9.083333333333336,
          -8.083333333333336,
          -7.083333333333336,
          -6.083333333333336,
          -2.5833333333333357,
          -5.083333333333336,
          -4.083333333333336,
          -3.0833333333333357,
          -2.0833333333333357,
          -1.0833333333333357,
          -0.0833333333333357,
          3.9166666666666643,
          0.9166666666666643,
          1.9166666666666643,
          2.9166666666666643,
          3.9166666666666643,
          4.916666666666664,
          5.916666666666664,
          6.916666666666664,
          9.916666666666664,
          7.916666666666664,
          8.916666666666664,
          9.916666666666664,
          10.916666666666664,
          11.916666666666664,
          13.916666666666664,
          12.916666666666664,
          13.916666666666664,
          14.916666666666664
         ],
         "y": [
          4.0,
          3.0,
          2.0,
          2.0,
          2.0,
          2.0,
          2.0,
          2.0,
          2.0,
          3.0,
          2.0,
          2.0,
          2.0,
          2.0,
          2.0,
          2.0,
          2.0,
          3.0,
          2.0,
          2.0,
          2.0,
          2.0,
          2.0,
          2.0,
          3.0,
          2.0,
          2.0,
          2.0,
          2.0,
          2.0,
          2.0,
          2.0,
          3.0,
          2.0,
          2.0,
          2.0,
          2.0,
          2.0,
          3.0,
          2.0,
          2.0,
          2.0
         ],
         "type": "scatter"
        }
       ],
       "layout": {
        "font": {
         "size": 12
        },
        "hovermode": "closest",
        "margin": {
         "b": 85,
         "l": 40,
         "r": 40,
         "t": 100
        },
        "plot_bgcolor": "rgb(248,248,248)",
        "showlegend": false,
        "template": {
         "data": {
          "barpolar": [
           {
            "marker": {
             "line": {
              "color": "#E5ECF6",
              "width": 0.5
             },
             "pattern": {
              "fillmode": "overlay",
              "size": 10,
              "solidity": 0.2
             }
            },
            "type": "barpolar"
           }
          ],
          "bar": [
           {
            "error_x": {
             "color": "#2a3f5f"
            },
            "error_y": {
             "color": "#2a3f5f"
            },
            "marker": {
             "line": {
              "color": "#E5ECF6",
              "width": 0.5
             },
             "pattern": {
              "fillmode": "overlay",
              "size": 10,
              "solidity": 0.2
             }
            },
            "type": "bar"
           }
          ],
          "carpet": [
           {
            "aaxis": {
             "endlinecolor": "#2a3f5f",
             "gridcolor": "white",
             "linecolor": "white",
             "minorgridcolor": "white",
             "startlinecolor": "#2a3f5f"
            },
            "baxis": {
             "endlinecolor": "#2a3f5f",
             "gridcolor": "white",
             "linecolor": "white",
             "minorgridcolor": "white",
             "startlinecolor": "#2a3f5f"
            },
            "type": "carpet"
           }
          ],
          "choropleth": [
           {
            "colorbar": {
             "outlinewidth": 0,
             "ticks": ""
            },
            "type": "choropleth"
           }
          ],
          "contourcarpet": [
           {
            "colorbar": {
             "outlinewidth": 0,
             "ticks": ""
            },
            "type": "contourcarpet"
           }
          ],
          "contour": [
           {
            "colorbar": {
             "outlinewidth": 0,
             "ticks": ""
            },
            "colorscale": [
             [
              0.0,
              "#0d0887"
             ],
             [
              0.1111111111111111,
              "#46039f"
             ],
             [
              0.2222222222222222,
              "#7201a8"
             ],
             [
              0.3333333333333333,
              "#9c179e"
             ],
             [
              0.4444444444444444,
              "#bd3786"
             ],
             [
              0.5555555555555556,
              "#d8576b"
             ],
             [
              0.6666666666666666,
              "#ed7953"
             ],
             [
              0.7777777777777778,
              "#fb9f3a"
             ],
             [
              0.8888888888888888,
              "#fdca26"
             ],
             [
              1.0,
              "#f0f921"
             ]
            ],
            "type": "contour"
           }
          ],
          "heatmapgl": [
           {
            "colorbar": {
             "outlinewidth": 0,
             "ticks": ""
            },
            "colorscale": [
             [
              0.0,
              "#0d0887"
             ],
             [
              0.1111111111111111,
              "#46039f"
             ],
             [
              0.2222222222222222,
              "#7201a8"
             ],
             [
              0.3333333333333333,
              "#9c179e"
             ],
             [
              0.4444444444444444,
              "#bd3786"
             ],
             [
              0.5555555555555556,
              "#d8576b"
             ],
             [
              0.6666666666666666,
              "#ed7953"
             ],
             [
              0.7777777777777778,
              "#fb9f3a"
             ],
             [
              0.8888888888888888,
              "#fdca26"
             ],
             [
              1.0,
              "#f0f921"
             ]
            ],
            "type": "heatmapgl"
           }
          ],
          "heatmap": [
           {
            "colorbar": {
             "outlinewidth": 0,
             "ticks": ""
            },
            "colorscale": [
             [
              0.0,
              "#0d0887"
             ],
             [
              0.1111111111111111,
              "#46039f"
             ],
             [
              0.2222222222222222,
              "#7201a8"
             ],
             [
              0.3333333333333333,
              "#9c179e"
             ],
             [
              0.4444444444444444,
              "#bd3786"
             ],
             [
              0.5555555555555556,
              "#d8576b"
             ],
             [
              0.6666666666666666,
              "#ed7953"
             ],
             [
              0.7777777777777778,
              "#fb9f3a"
             ],
             [
              0.8888888888888888,
              "#fdca26"
             ],
             [
              1.0,
              "#f0f921"
             ]
            ],
            "type": "heatmap"
           }
          ],
          "histogram2dcontour": [
           {
            "colorbar": {
             "outlinewidth": 0,
             "ticks": ""
            },
            "colorscale": [
             [
              0.0,
              "#0d0887"
             ],
             [
              0.1111111111111111,
              "#46039f"
             ],
             [
              0.2222222222222222,
              "#7201a8"
             ],
             [
              0.3333333333333333,
              "#9c179e"
             ],
             [
              0.4444444444444444,
              "#bd3786"
             ],
             [
              0.5555555555555556,
              "#d8576b"
             ],
             [
              0.6666666666666666,
              "#ed7953"
             ],
             [
              0.7777777777777778,
              "#fb9f3a"
             ],
             [
              0.8888888888888888,
              "#fdca26"
             ],
             [
              1.0,
              "#f0f921"
             ]
            ],
            "type": "histogram2dcontour"
           }
          ],
          "histogram2d": [
           {
            "colorbar": {
             "outlinewidth": 0,
             "ticks": ""
            },
            "colorscale": [
             [
              0.0,
              "#0d0887"
             ],
             [
              0.1111111111111111,
              "#46039f"
             ],
             [
              0.2222222222222222,
              "#7201a8"
             ],
             [
              0.3333333333333333,
              "#9c179e"
             ],
             [
              0.4444444444444444,
              "#bd3786"
             ],
             [
              0.5555555555555556,
              "#d8576b"
             ],
             [
              0.6666666666666666,
              "#ed7953"
             ],
             [
              0.7777777777777778,
              "#fb9f3a"
             ],
             [
              0.8888888888888888,
              "#fdca26"
             ],
             [
              1.0,
              "#f0f921"
             ]
            ],
            "type": "histogram2d"
           }
          ],
          "histogram": [
           {
            "marker": {
             "pattern": {
              "fillmode": "overlay",
              "size": 10,
              "solidity": 0.2
             }
            },
            "type": "histogram"
           }
          ],
          "mesh3d": [
           {
            "colorbar": {
             "outlinewidth": 0,
             "ticks": ""
            },
            "type": "mesh3d"
           }
          ],
          "parcoords": [
           {
            "line": {
             "colorbar": {
              "outlinewidth": 0,
              "ticks": ""
             }
            },
            "type": "parcoords"
           }
          ],
          "pie": [
           {
            "automargin": true,
            "type": "pie"
           }
          ],
          "scatter3d": [
           {
            "line": {
             "colorbar": {
              "outlinewidth": 0,
              "ticks": ""
             }
            },
            "marker": {
             "colorbar": {
              "outlinewidth": 0,
              "ticks": ""
             }
            },
            "type": "scatter3d"
           }
          ],
          "scattercarpet": [
           {
            "marker": {
             "colorbar": {
              "outlinewidth": 0,
              "ticks": ""
             }
            },
            "type": "scattercarpet"
           }
          ],
          "scattergeo": [
           {
            "marker": {
             "colorbar": {
              "outlinewidth": 0,
              "ticks": ""
             }
            },
            "type": "scattergeo"
           }
          ],
          "scattergl": [
           {
            "marker": {
             "colorbar": {
              "outlinewidth": 0,
              "ticks": ""
             }
            },
            "type": "scattergl"
           }
          ],
          "scattermapbox": [
           {
            "marker": {
             "colorbar": {
              "outlinewidth": 0,
              "ticks": ""
             }
            },
            "type": "scattermapbox"
           }
          ],
          "scatterpolargl": [
           {
            "marker": {
             "colorbar": {
              "outlinewidth": 0,
              "ticks": ""
             }
            },
            "type": "scatterpolargl"
           }
          ],
          "scatterpolar": [
           {
            "marker": {
             "colorbar": {
              "outlinewidth": 0,
              "ticks": ""
             }
            },
            "type": "scatterpolar"
           }
          ],
          "scatter": [
           {
            "fillpattern": {
             "fillmode": "overlay",
             "size": 10,
             "solidity": 0.2
            },
            "type": "scatter"
           }
          ],
          "scatterternary": [
           {
            "marker": {
             "colorbar": {
              "outlinewidth": 0,
              "ticks": ""
             }
            },
            "type": "scatterternary"
           }
          ],
          "surface": [
           {
            "colorbar": {
             "outlinewidth": 0,
             "ticks": ""
            },
            "colorscale": [
             [
              0.0,
              "#0d0887"
             ],
             [
              0.1111111111111111,
              "#46039f"
             ],
             [
              0.2222222222222222,
              "#7201a8"
             ],
             [
              0.3333333333333333,
              "#9c179e"
             ],
             [
              0.4444444444444444,
              "#bd3786"
             ],
             [
              0.5555555555555556,
              "#d8576b"
             ],
             [
              0.6666666666666666,
              "#ed7953"
             ],
             [
              0.7777777777777778,
              "#fb9f3a"
             ],
             [
              0.8888888888888888,
              "#fdca26"
             ],
             [
              1.0,
              "#f0f921"
             ]
            ],
            "type": "surface"
           }
          ],
          "table": [
           {
            "cells": {
             "fill": {
              "color": "#EBF0F8"
             },
             "line": {
              "color": "white"
             }
            },
            "header": {
             "fill": {
              "color": "#C8D4E3"
             },
             "line": {
              "color": "white"
             }
            },
            "type": "table"
           }
          ]
         },
         "layout": {
          "annotationdefaults": {
           "arrowcolor": "#2a3f5f",
           "arrowhead": 0,
           "arrowwidth": 1
          },
          "autotypenumbers": "strict",
          "coloraxis": {
           "colorbar": {
            "outlinewidth": 0,
            "ticks": ""
           }
          },
          "colorscale": {
           "diverging": [
            [
             0,
             "#8e0152"
            ],
            [
             0.1,
             "#c51b7d"
            ],
            [
             0.2,
             "#de77ae"
            ],
            [
             0.3,
             "#f1b6da"
            ],
            [
             0.4,
             "#fde0ef"
            ],
            [
             0.5,
             "#f7f7f7"
            ],
            [
             0.6,
             "#e6f5d0"
            ],
            [
             0.7,
             "#b8e186"
            ],
            [
             0.8,
             "#7fbc41"
            ],
            [
             0.9,
             "#4d9221"
            ],
            [
             1,
             "#276419"
            ]
           ],
           "sequential": [
            [
             0.0,
             "#0d0887"
            ],
            [
             0.1111111111111111,
             "#46039f"
            ],
            [
             0.2222222222222222,
             "#7201a8"
            ],
            [
             0.3333333333333333,
             "#9c179e"
            ],
            [
             0.4444444444444444,
             "#bd3786"
            ],
            [
             0.5555555555555556,
             "#d8576b"
            ],
            [
             0.6666666666666666,
             "#ed7953"
            ],
            [
             0.7777777777777778,
             "#fb9f3a"
            ],
            [
             0.8888888888888888,
             "#fdca26"
            ],
            [
             1.0,
             "#f0f921"
            ]
           ],
           "sequentialminus": [
            [
             0.0,
             "#0d0887"
            ],
            [
             0.1111111111111111,
             "#46039f"
            ],
            [
             0.2222222222222222,
             "#7201a8"
            ],
            [
             0.3333333333333333,
             "#9c179e"
            ],
            [
             0.4444444444444444,
             "#bd3786"
            ],
            [
             0.5555555555555556,
             "#d8576b"
            ],
            [
             0.6666666666666666,
             "#ed7953"
            ],
            [
             0.7777777777777778,
             "#fb9f3a"
            ],
            [
             0.8888888888888888,
             "#fdca26"
            ],
            [
             1.0,
             "#f0f921"
            ]
           ]
          },
          "colorway": [
           "#636efa",
           "#EF553B",
           "#00cc96",
           "#ab63fa",
           "#FFA15A",
           "#19d3f3",
           "#FF6692",
           "#B6E880",
           "#FF97FF",
           "#FECB52"
          ],
          "font": {
           "color": "#2a3f5f"
          },
          "geo": {
           "bgcolor": "white",
           "lakecolor": "white",
           "landcolor": "#E5ECF6",
           "showlakes": true,
           "showland": true,
           "subunitcolor": "white"
          },
          "hoverlabel": {
           "align": "left"
          },
          "hovermode": "closest",
          "mapbox": {
           "style": "light"
          },
          "paper_bgcolor": "white",
          "plot_bgcolor": "#E5ECF6",
          "polar": {
           "angularaxis": {
            "gridcolor": "white",
            "linecolor": "white",
            "ticks": ""
           },
           "bgcolor": "#E5ECF6",
           "radialaxis": {
            "gridcolor": "white",
            "linecolor": "white",
            "ticks": ""
           }
          },
          "scene": {
           "xaxis": {
            "backgroundcolor": "#E5ECF6",
            "gridcolor": "white",
            "gridwidth": 2,
            "linecolor": "white",
            "showbackground": true,
            "ticks": "",
            "zerolinecolor": "white"
           },
           "yaxis": {
            "backgroundcolor": "#E5ECF6",
            "gridcolor": "white",
            "gridwidth": 2,
            "linecolor": "white",
            "showbackground": true,
            "ticks": "",
            "zerolinecolor": "white"
           },
           "zaxis": {
            "backgroundcolor": "#E5ECF6",
            "gridcolor": "white",
            "gridwidth": 2,
            "linecolor": "white",
            "showbackground": true,
            "ticks": "",
            "zerolinecolor": "white"
           }
          },
          "shapedefaults": {
           "line": {
            "color": "#2a3f5f"
           }
          },
          "ternary": {
           "aaxis": {
            "gridcolor": "white",
            "linecolor": "white",
            "ticks": ""
           },
           "baxis": {
            "gridcolor": "white",
            "linecolor": "white",
            "ticks": ""
           },
           "bgcolor": "#E5ECF6",
           "caxis": {
            "gridcolor": "white",
            "linecolor": "white",
            "ticks": ""
           }
          },
          "title": {
           "x": 0.05
          },
          "xaxis": {
           "automargin": true,
           "gridcolor": "white",
           "linecolor": "white",
           "ticks": "",
           "title": {
            "standoff": 15
           },
           "zerolinecolor": "white",
           "zerolinewidth": 2
          },
          "yaxis": {
           "automargin": true,
           "gridcolor": "white",
           "linecolor": "white",
           "ticks": "",
           "title": {
            "standoff": 15
           },
           "zerolinecolor": "white",
           "zerolinewidth": 2
          }
         }
        },
        "title": {
         "text": "Tree Visualization"
        },
        "width": 1500,
        "xaxis": {
         "showgrid": false,
         "showline": false,
         "showticklabels": false,
         "zeroline": false
        },
        "yaxis": {
         "showgrid": false,
         "showline": false,
         "showticklabels": false,
         "zeroline": false
        }
       },
       "config": {
        "showLink": false,
        "linkText": "Export to plot.ly",
        "plotlyServerURL": "https://plot.ly"
       }
      },
      "text/html": [
       "<div>                            <div id=\"585b9f14-ee04-47dd-b5cc-5d75141b8d8b\" class=\"plotly-graph-div\" style=\"height:525px; width:1500px;\"></div>            <script type=\"text/javascript\">                require([\"plotly\"], function(Plotly) {                    window.PLOTLYENV=window.PLOTLYENV || {};                                    if (document.getElementById(\"585b9f14-ee04-47dd-b5cc-5d75141b8d8b\")) {                    Plotly.newPlot(                        \"585b9f14-ee04-47dd-b5cc-5d75141b8d8b\",                        [{\"hoverinfo\":\"none\",\"line\":{\"color\":\"rgb(210,210,210)\",\"width\":2},\"mode\":\"lines\",\"x\":[0.0,-16.083333333333336,null],\"y\":[4.0,3.0,null],\"type\":\"scatter\"},{\"hoverinfo\":\"none\",\"line\":{\"color\":\"rgb(210,210,210)\",\"width\":2},\"mode\":\"lines\",\"x\":[-16.083333333333336,-19.083333333333336,null],\"y\":[3.0,2.0,null],\"type\":\"scatter\"},{\"hoverinfo\":\"none\",\"line\":{\"color\":\"rgb(210,210,210)\",\"width\":2},\"mode\":\"lines\",\"x\":[-16.083333333333336,-18.083333333333336,null],\"y\":[3.0,2.0,null],\"type\":\"scatter\"},{\"hoverinfo\":\"none\",\"line\":{\"color\":\"rgb(210,210,210)\",\"width\":2},\"mode\":\"lines\",\"x\":[-16.083333333333336,-17.083333333333336,null],\"y\":[3.0,2.0,null],\"type\":\"scatter\"},{\"hoverinfo\":\"none\",\"line\":{\"color\":\"rgb(210,210,210)\",\"width\":2},\"mode\":\"lines\",\"x\":[-16.083333333333336,-16.083333333333336,null],\"y\":[3.0,2.0,null],\"type\":\"scatter\"},{\"hoverinfo\":\"none\",\"line\":{\"color\":\"rgb(210,210,210)\",\"width\":2},\"mode\":\"lines\",\"x\":[-16.083333333333336,-15.083333333333336,null],\"y\":[3.0,2.0,null],\"type\":\"scatter\"},{\"hoverinfo\":\"none\",\"line\":{\"color\":\"rgb(210,210,210)\",\"width\":2},\"mode\":\"lines\",\"x\":[-16.083333333333336,-14.083333333333336,null],\"y\":[3.0,2.0,null],\"type\":\"scatter\"},{\"hoverinfo\":\"none\",\"line\":{\"color\":\"rgb(210,210,210)\",\"width\":2},\"mode\":\"lines\",\"x\":[-16.083333333333336,-13.083333333333336,null],\"y\":[3.0,2.0,null],\"type\":\"scatter\"},{\"hoverinfo\":\"none\",\"line\":{\"color\":\"rgb(210,210,210)\",\"width\":2},\"mode\":\"lines\",\"x\":[0.0,-9.083333333333336,null],\"y\":[4.0,3.0,null],\"type\":\"scatter\"},{\"hoverinfo\":\"none\",\"line\":{\"color\":\"rgb(210,210,210)\",\"width\":2},\"mode\":\"lines\",\"x\":[-9.083333333333336,-12.083333333333336,null],\"y\":[3.0,2.0,null],\"type\":\"scatter\"},{\"hoverinfo\":\"none\",\"line\":{\"color\":\"rgb(210,210,210)\",\"width\":2},\"mode\":\"lines\",\"x\":[-9.083333333333336,-11.083333333333336,null],\"y\":[3.0,2.0,null],\"type\":\"scatter\"},{\"hoverinfo\":\"none\",\"line\":{\"color\":\"rgb(210,210,210)\",\"width\":2},\"mode\":\"lines\",\"x\":[-9.083333333333336,-10.083333333333336,null],\"y\":[3.0,2.0,null],\"type\":\"scatter\"},{\"hoverinfo\":\"none\",\"line\":{\"color\":\"rgb(210,210,210)\",\"width\":2},\"mode\":\"lines\",\"x\":[-9.083333333333336,-9.083333333333336,null],\"y\":[3.0,2.0,null],\"type\":\"scatter\"},{\"hoverinfo\":\"none\",\"line\":{\"color\":\"rgb(210,210,210)\",\"width\":2},\"mode\":\"lines\",\"x\":[-9.083333333333336,-8.083333333333336,null],\"y\":[3.0,2.0,null],\"type\":\"scatter\"},{\"hoverinfo\":\"none\",\"line\":{\"color\":\"rgb(210,210,210)\",\"width\":2},\"mode\":\"lines\",\"x\":[-9.083333333333336,-7.083333333333336,null],\"y\":[3.0,2.0,null],\"type\":\"scatter\"},{\"hoverinfo\":\"none\",\"line\":{\"color\":\"rgb(210,210,210)\",\"width\":2},\"mode\":\"lines\",\"x\":[-9.083333333333336,-6.083333333333336,null],\"y\":[3.0,2.0,null],\"type\":\"scatter\"},{\"hoverinfo\":\"none\",\"line\":{\"color\":\"red\",\"width\":2},\"mode\":\"lines\",\"x\":[0.0,-2.5833333333333357,null],\"y\":[4.0,3.0,null],\"type\":\"scatter\"},{\"hoverinfo\":\"none\",\"line\":{\"color\":\"rgb(210,210,210)\",\"width\":2},\"mode\":\"lines\",\"x\":[-2.5833333333333357,-5.083333333333336,null],\"y\":[3.0,2.0,null],\"type\":\"scatter\"},{\"hoverinfo\":\"none\",\"line\":{\"color\":\"rgb(210,210,210)\",\"width\":2},\"mode\":\"lines\",\"x\":[-2.5833333333333357,-4.083333333333336,null],\"y\":[3.0,2.0,null],\"type\":\"scatter\"},{\"hoverinfo\":\"none\",\"line\":{\"color\":\"red\",\"width\":2},\"mode\":\"lines\",\"x\":[-2.5833333333333357,-3.0833333333333357,null],\"y\":[3.0,2.0,null],\"type\":\"scatter\"},{\"hoverinfo\":\"none\",\"line\":{\"color\":\"rgb(210,210,210)\",\"width\":2},\"mode\":\"lines\",\"x\":[-2.5833333333333357,-2.0833333333333357,null],\"y\":[3.0,2.0,null],\"type\":\"scatter\"},{\"hoverinfo\":\"none\",\"line\":{\"color\":\"rgb(210,210,210)\",\"width\":2},\"mode\":\"lines\",\"x\":[-2.5833333333333357,-1.0833333333333357,null],\"y\":[3.0,2.0,null],\"type\":\"scatter\"},{\"hoverinfo\":\"none\",\"line\":{\"color\":\"rgb(210,210,210)\",\"width\":2},\"mode\":\"lines\",\"x\":[-2.5833333333333357,-0.0833333333333357,null],\"y\":[3.0,2.0,null],\"type\":\"scatter\"},{\"hoverinfo\":\"none\",\"line\":{\"color\":\"rgb(210,210,210)\",\"width\":2},\"mode\":\"lines\",\"x\":[0.0,3.9166666666666643,null],\"y\":[4.0,3.0,null],\"type\":\"scatter\"},{\"hoverinfo\":\"none\",\"line\":{\"color\":\"rgb(210,210,210)\",\"width\":2},\"mode\":\"lines\",\"x\":[3.9166666666666643,0.9166666666666643,null],\"y\":[3.0,2.0,null],\"type\":\"scatter\"},{\"hoverinfo\":\"none\",\"line\":{\"color\":\"rgb(210,210,210)\",\"width\":2},\"mode\":\"lines\",\"x\":[3.9166666666666643,1.9166666666666643,null],\"y\":[3.0,2.0,null],\"type\":\"scatter\"},{\"hoverinfo\":\"none\",\"line\":{\"color\":\"rgb(210,210,210)\",\"width\":2},\"mode\":\"lines\",\"x\":[3.9166666666666643,2.9166666666666643,null],\"y\":[3.0,2.0,null],\"type\":\"scatter\"},{\"hoverinfo\":\"none\",\"line\":{\"color\":\"rgb(210,210,210)\",\"width\":2},\"mode\":\"lines\",\"x\":[3.9166666666666643,3.9166666666666643,null],\"y\":[3.0,2.0,null],\"type\":\"scatter\"},{\"hoverinfo\":\"none\",\"line\":{\"color\":\"rgb(210,210,210)\",\"width\":2},\"mode\":\"lines\",\"x\":[3.9166666666666643,4.916666666666664,null],\"y\":[3.0,2.0,null],\"type\":\"scatter\"},{\"hoverinfo\":\"none\",\"line\":{\"color\":\"rgb(210,210,210)\",\"width\":2},\"mode\":\"lines\",\"x\":[3.9166666666666643,5.916666666666664,null],\"y\":[3.0,2.0,null],\"type\":\"scatter\"},{\"hoverinfo\":\"none\",\"line\":{\"color\":\"rgb(210,210,210)\",\"width\":2},\"mode\":\"lines\",\"x\":[3.9166666666666643,6.916666666666664,null],\"y\":[3.0,2.0,null],\"type\":\"scatter\"},{\"hoverinfo\":\"none\",\"line\":{\"color\":\"rgb(210,210,210)\",\"width\":2},\"mode\":\"lines\",\"x\":[0.0,9.916666666666664,null],\"y\":[4.0,3.0,null],\"type\":\"scatter\"},{\"hoverinfo\":\"none\",\"line\":{\"color\":\"rgb(210,210,210)\",\"width\":2},\"mode\":\"lines\",\"x\":[9.916666666666664,7.916666666666664,null],\"y\":[3.0,2.0,null],\"type\":\"scatter\"},{\"hoverinfo\":\"none\",\"line\":{\"color\":\"rgb(210,210,210)\",\"width\":2},\"mode\":\"lines\",\"x\":[9.916666666666664,8.916666666666664,null],\"y\":[3.0,2.0,null],\"type\":\"scatter\"},{\"hoverinfo\":\"none\",\"line\":{\"color\":\"rgb(210,210,210)\",\"width\":2},\"mode\":\"lines\",\"x\":[9.916666666666664,9.916666666666664,null],\"y\":[3.0,2.0,null],\"type\":\"scatter\"},{\"hoverinfo\":\"none\",\"line\":{\"color\":\"rgb(210,210,210)\",\"width\":2},\"mode\":\"lines\",\"x\":[9.916666666666664,10.916666666666664,null],\"y\":[3.0,2.0,null],\"type\":\"scatter\"},{\"hoverinfo\":\"none\",\"line\":{\"color\":\"rgb(210,210,210)\",\"width\":2},\"mode\":\"lines\",\"x\":[9.916666666666664,11.916666666666664,null],\"y\":[3.0,2.0,null],\"type\":\"scatter\"},{\"hoverinfo\":\"none\",\"line\":{\"color\":\"rgb(210,210,210)\",\"width\":2},\"mode\":\"lines\",\"x\":[0.0,13.916666666666664,null],\"y\":[4.0,3.0,null],\"type\":\"scatter\"},{\"hoverinfo\":\"none\",\"line\":{\"color\":\"rgb(210,210,210)\",\"width\":2},\"mode\":\"lines\",\"x\":[13.916666666666664,12.916666666666664,null],\"y\":[3.0,2.0,null],\"type\":\"scatter\"},{\"hoverinfo\":\"none\",\"line\":{\"color\":\"rgb(210,210,210)\",\"width\":2},\"mode\":\"lines\",\"x\":[13.916666666666664,13.916666666666664,null],\"y\":[3.0,2.0,null],\"type\":\"scatter\"},{\"hoverinfo\":\"none\",\"line\":{\"color\":\"rgb(210,210,210)\",\"width\":2},\"mode\":\"lines\",\"x\":[13.916666666666664,14.916666666666664,null],\"y\":[3.0,2.0,null],\"type\":\"scatter\"},{\"hoverinfo\":\"text\",\"hovertext\":[\"\\u2022 [Node #-1]\\u003cbr\\u003eRoot Node\",\"\\u2022 [Node #35]\\u003cbr\\u003eIn this tale, a kind-hearted father asks his two step-daughters what they want h\\u003cbr\\u003eim to bring back for them. One asks for beautiful dresses, while the other reque\\u003cbr\\u003ests pearls and jewels. When the father asks Cinderella what she would like, she \\u003cbr\\u003esimply asks him to break off the first branch that knocks against his hat on his\\u003cbr\\u003e way home. On his journey, a hazel twig knocks off his hat, and he fulfills the \\u003cbr\\u003ewishes of his step-daughters and brings the hazel branch to\",\"\\u2022 [Node #4]\\u003cbr\\u003easked his two step-daughters what he should bring back for them Beautiful dresse\\u003cbr\\u003es, said one, pearls and jewels, said the second And you, cinderella, said he, wh\\u003cbr\\u003eat will you have   Father break off for me the first branch which knocks against\\u003cbr\\u003e your hat on your way home   So he bought beautiful dresses, pearls and jewels f\\u003cbr\\u003eor his two step-daughters, and on his way home, as he was riding through a green\\u003cbr\\u003e thicket, a hazel twig brushed against him and\",\"\\u2022 [Node #5]\\u003cbr\\u003eknocked off his hat   Then he broke off the branch and took it with him   When h\\u003cbr\\u003ee reached home he gave his step-daughters the things which they had wished for, \\u003cbr\\u003eand to cinderella he gave the branch from the hazel-bush   Cinderella thanked hi\\u003cbr\\u003em, went to her mother's grave and planted the branch on it, and wept so much tha\\u003cbr\\u003et the tears fell down on it and watered it   And it grew and became a handsome t\\u003cbr\\u003eree\",\"\\u2022 [Node #6]\\u003cbr\\u003e Thrice a day cinderella went and sat beneath it, and wept and prayed, and a lit\\u003cbr\\u003etle white bird always came on the tree, and if cinderella expressed a wish, the \\u003cbr\\u003ebird threw down to her what she had wished for It happened, however, that the ki\\u003cbr\\u003eng gave orders for a festival which was to last three days, and to which all the\\u003cbr\\u003e beautiful young girls in the country were invited, in order that his son might \\u003cbr\\u003echoose himself a bride\",\"\\u2022 [Node #18]\\u003cbr\\u003ea dim little oil-lamp was burning on the mantle-piece, for cinderella had jumped\\u003cbr\\u003e quickly down from the back of the pigeon-house and had run to the little hazel-\\u003cbr\\u003etree, and there she had taken off her beautiful clothes and laid them on the gra\\u003cbr\\u003eve, and the bird had taken them away again, and then she had seated herself in t\\u003cbr\\u003ehe kitchen amongst the ashes in her grey gown Next day when the festival began a\\u003cbr\\u003efresh, and her parents and\",\"\\u2022 [Node #19]\\u003cbr\\u003ethe step-sisters had gone once more, cinderella went to the hazel-tree and said \\u003cbr\\u003e-      shiver and quiver, my little tree,      silver and gold throw down over m\\u003cbr\\u003ee Then the bird threw down a much more beautiful dress than on the preceding day\\u003cbr\\u003e  And when cinderella appeared at the wedding in this dress, every one was aston\\u003cbr\\u003eished at her beauty   The king's son had waited until she came, and instantly to\\u003cbr\\u003eok her by the hand\",\"\\u2022 [Node #21]\\u003cbr\\u003ebetween the branches like a squirrel that the king's son did not know where she \\u003cbr\\u003ewas gone   He waited until her father came, and said to him, the unknown maiden \\u003cbr\\u003ehas escaped from me, and I believe she has climbed up the pear-tree   The father\\u003cbr\\u003e thought, can it be cinderella   And had an axe brought and cut the tree down, b\\u003cbr\\u003eut no one was on it   And when they got into the\",\"\\u2022 [Node #22]\\u003cbr\\u003ekitchen, cinderella lay there among the ashes, as usual, for she had jumped down\\u003cbr\\u003e on the other side of the tree, had taken the beautiful dress to the bird on the\\u003cbr\\u003e little hazel-tree, and put on her grey gown On the third day, when the parents \\u003cbr\\u003eand sisters had gone away, cinderella went once more to her mother's grave and s\\u003cbr\\u003eaid to the little tree -      shiver and quiver, my little tree,      silver and\\u003cbr\\u003e gold throw down over me\",\"\\u2022 [Node #36]\\u003cbr\\u003eSummary:\\u003cbr\\u003e\\u003cbr\\u003eIn this story, a father tells his daughters that only the one whose foot fits a \\u003cbr\\u003egolden slipper will be his wife. The two sisters are hopeful as they both have p\\u003cbr\\u003eretty feet, but the eldest sister's foot is too big for the slipper. At her moth\\u003cbr\\u003eer's urging, she cuts off her toe to make the slipper fit, and she marries the k\\u003cbr\\u003eing's son. However, on their way to the palace, two pigeons warn that the shoe i\\u003cbr\\u003es too small and\",\"\\u2022 [Node #32]\\u003cbr\\u003ehowever, took cinderella on his horse and rode away with her   As they passed by\\u003cbr\\u003e the hazel-tree, the two white doves cried -      turn and peep, turn and peep, \\u003cbr\\u003e     no blood is in the shoe,      the shoe is not too small for her,      the t\\u003cbr\\u003erue bride rides with you, and when they had cried that, the two came flying down\\u003cbr\\u003e and placed themselves on cinderella's shoulders, one on the right,\",\"\\u2022 [Node #25]\\u003cbr\\u003ethe father, and said to him, no one shall be my wife but she whose foot this gol\\u003cbr\\u003eden slipper fits   Then were the two sisters glad, for they had pretty feet   Th\\u003cbr\\u003ee eldest went with the shoe into her room and wanted to try it on, and her mothe\\u003cbr\\u003er stood by   But she could not get her big toe into it, and the shoe was too sma\\u003cbr\\u003ell for her   Then her mother gave her a knife and said, cut the toe off,\",\"\\u2022 [Node #26]\\u003cbr\\u003ewhen you are queen you will have no more need to go on foot   The maiden cut the\\u003cbr\\u003e toe off, forced the foot into the shoe, swallowed the pain, and went out to the\\u003cbr\\u003e king's son   Then he took her on his his horse as his bride and rode away with \\u003cbr\\u003eher   They were obliged, however, to pass the grave, and there, on the hazel-tre\\u003cbr\\u003ee, sat the two pigeons and cried -      turn and peep, turn and peep,\",\"\\u2022 [Node #27]\\u003cbr\\u003e     there's blood within the shoe,      the shoe it is too small for her,      \\u003cbr\\u003ethe true bride waits for you Then he looked at her foot and saw how the blood wa\\u003cbr\\u003es trickling from it   He turned his horse round and took the false bride home ag\\u003cbr\\u003eain, and said she was not the true one, and that the other sister was to put the\\u003cbr\\u003e shoe on   Then this one went into her chamber and got her toes safely into the \\u003cbr\\u003eshoe, but her heel was too large\",\"\\u2022 [Node #28]\\u003cbr\\u003e  So her mother gave her a knife and said,  cut a bit off your heel, when you ar\\u003cbr\\u003ee queen you will have no more need to go on foot   The maiden cut a bit off her \\u003cbr\\u003eheel, forced her foot into the shoe, swallowed the pain, and went out to the kin\\u003cbr\\u003eg's son   He took her on his horse as his bride, and rode away with her, but whe\\u003cbr\\u003en they passed by the hazel-tree, the two pigeons sat on it and cried -\",\"\\u2022 [Node #29]\\u003cbr\\u003e     turn and peep, turn and peep,      there's blood within the shoe,      the \\u003cbr\\u003eshoe it is too small for her,      the true bride waits for you He looked down a\\u003cbr\\u003et her foot and saw how the blood was running out of her shoe, and how it had sta\\u003cbr\\u003eined her white stocking quite red   Then he turned his horse and took the false \\u003cbr\\u003ebride home again   This also is not the right one, said he, have you no other da\\u003cbr\\u003eughter\",\"\\u2022 [Node #31]\\u003cbr\\u003ebefore the king's son, who gave her the golden shoe   Then she seated herself on\\u003cbr\\u003e a stool, drew her foot out of the heavy wooden shoe, and put it into the slippe\\u003cbr\\u003er, which fitted like a glove   And when she rose up and the king's son looked at\\u003cbr\\u003e her face he recognized the beautiful maiden who had danced with him and cried, \\u003cbr\\u003ethat is the true bride   The step-mother and the two sisters were horrified and \\u003cbr\\u003ebecame pale with rage, he,\",\"\\u2022 [Node #37]\\u003cbr\\u003eSummary:\\u003cbr\\u003e\\u003cbr\\u003eA rich man's wife falls sick and, feeling her end approaching, tells her daughte\\u003cbr\\u003er to be good and pious so that God will protect her. The mother passes away, and\\u003cbr\\u003e the daughter visits her grave daily, remaining pious and good. When winter come\\u003cbr\\u003es, the snow covers the grave, and by spring, the man marries another woman who b\\u003cbr\\u003erings her two beautiful but wicked daughters into the house. The step-daughters \\u003cbr\\u003emistreat the kind maiden, calling her names and making her work\",\"\\u2022 [Node #0]\\u003cbr\\u003eThe wife of a rich man fell sick, and as she felt that her end was drawing near,\\u003cbr\\u003e she called her only daughter to her bedside and said, dear child, be good and p\\u003cbr\\u003eious, and then the good God will always protect you, and I will look down on you\\u003cbr\\u003e from heaven and be near you   Thereupon she closed her eyes and departed   Ever\\u003cbr\\u003ey day the maiden went out to her mother's grave, and wept, and she remained piou\\u003cbr\\u003es and good   When winter came\",\"\\u2022 [Node #1]\\u003cbr\\u003ethe snow spread a white sheet over the grave, and by the time the spring sun had\\u003cbr\\u003e drawn it off again, the man had taken another wife The woman had brought with h\\u003cbr\\u003eer into the house two daughters, who were beautiful and fair of face, but vile a\\u003cbr\\u003end black of heart Now began a bad time for the poor step-child   Is the stupid g\\u003cbr\\u003eoose to sit in the parlor with us, they said   He who wants to eat bread must ea\\u003cbr\\u003ern it   Out with the kitchen-wench\",\"\\u2022 [Node #9]\\u003cbr\\u003eback-door into the garden, and called, you tame pigeons, you turtle-doves, and a\\u003cbr\\u003ell you birds beneath the sky, come and help me to pick      the good into the po\\u003cbr\\u003et,      the bad into the crop Then two white pigeons came in by the kitchen wind\\u003cbr\\u003eow, and afterwards the turtle-doves, and at last all the birds beneath the sky, \\u003cbr\\u003ecame whirring and crowding in, and alighted amongst the ashes\",\"\\u2022 [Node #10]\\u003cbr\\u003eAnd the pigeons nodded with their heads and began pick, pick, pick, pick, and th\\u003cbr\\u003ee rest began also pick, pick, pick, pick, and gathered all the good grains into \\u003cbr\\u003ethe dish   Hardly had one hour passed before they had finished, and all flew out\\u003cbr\\u003e again   Then the girl took the dish to her step-mother, and was glad, and belie\\u003cbr\\u003eved that now she would be allowed to go with them to the festival\",\"\\u2022 [Node #12]\\u003cbr\\u003edishes of lentils amongst the ashes, the maiden went through the back-door into \\u003cbr\\u003ethe garden and cried, you tame pigeons, you turtle-doves, and all you birds bene\\u003cbr\\u003eath the sky, come and help me to pick      the good into the pot,      the bad i\\u003cbr\\u003ento the crop Then two white pigeons came in by the kitchen-window, and afterward\\u003cbr\\u003es the turtle-doves, and at length all the birds beneath the\",\"\\u2022 [Node #13]\\u003cbr\\u003esky, came whirring and crowding in, and alighted amongst the ashes   And the dov\\u003cbr\\u003ees nodded with their heads and began pick, pick, pick, pick, and the others bega\\u003cbr\\u003en also pick, pick, pick, pick, and gathered all the good seeds into the dishes, \\u003cbr\\u003eand before half an hour was over they had already finished, and all flew out aga\\u003cbr\\u003ein Then the maiden was delighted, and believed that she might now go with them t\\u003cbr\\u003eo the wedding\",\"\\u2022 [Node #38]\\u003cbr\\u003eIn the story of \\\"Cinderella,\\\" a proud princess is stripped of her beautiful clot\\u003cbr\\u003ehes, forced to wear old, grey attire and wooden shoes, and made to work hard in \\u003cbr\\u003ethe kitchen by her cruel stepmother and stepsisters. They mock her and make her \\u003cbr\\u003epick peas and lentils from the ashes, giving her the nickname \\\"Cinderella\\\" due t\\u003cbr\\u003eo her dusty appearance. Her stepmother refuses to let her attend the royal festi\\u003cbr\\u003eval, despite Cinderella's pleas. When a mysterious maiden leaps\",\"\\u2022 [Node #2]\\u003cbr\\u003e  They took her pretty clothes away from her, put an old grey bedgown on her, an\\u003cbr\\u003ed gave her wooden shoes   Just look at the proud princess, how decked out she is\\u003cbr\\u003e, they cried, and laughed, and led her into the kitchen There she had to do hard\\u003cbr\\u003e work from morning till night, get up before daybreak, carry water, light fires,\\u003cbr\\u003e cook and wash   Besides this, the sisters did her every imaginable injury - the\\u003cbr\\u003ey mocked her\",\"\\u2022 [Node #3]\\u003cbr\\u003eand emptied her peas and lentils into the ashes, so that she was forced to sit a\\u003cbr\\u003end pick them out again   In the evening when she had worked till she was weary s\\u003cbr\\u003ehe had no bed to go to, but had to sleep by the hearth in the cinders   And as o\\u003cbr\\u003en that account she always looked dusty and dirty, they called her cinderella It \\u003cbr\\u003ehappened that the father was once going to the fair, and he\",\"\\u2022 [Node #8]\\u003cbr\\u003e  You go, cinderella, said she, covered in dust and dirt as you are, and would g\\u003cbr\\u003eo to the festival   You have no clothes and shoes, and yet would dance   As, how\\u003cbr\\u003eever, cinderella went on asking, the step-mother said at last, I have emptied a \\u003cbr\\u003edish of lentils into the ashes for you, if you have picked them out again in two\\u003cbr\\u003e hours, you shall go with us   The maiden went through the\",\"\\u2022 [Node #11]\\u003cbr\\u003eBut the step-mother said, no, cinderella, you have no clothes and you can not da\\u003cbr\\u003ence   You would only be laughed at   And as cinderella wept at this, the step-mo\\u003cbr\\u003ether said, if you can pick two dishes of lentils out of the ashes for me in one \\u003cbr\\u003ehour, you shall go with us   And she thought to herself, that she most certainly\\u003cbr\\u003e cannot do again   When the step-mother had emptied the two\",\"\\u2022 [Node #14]\\u003cbr\\u003e  But the step-mother said, all this will not help   You cannot go with us, for \\u003cbr\\u003eyou have no clothes and can not dance   We should be ashamed of you   On this sh\\u003cbr\\u003ee turned her back on cinderella, and hurried away with her two proud daughters A\\u003cbr\\u003es no one was now at home, cinderella went to her mother's grave beneath the haze\\u003cbr\\u003el-tree, and cried -      shiver and quiver, little tree,      silver and gold th\\u003cbr\\u003erow down over me\",\"\\u2022 [Node #17]\\u003cbr\\u003epigeon-house   The king's son waited until her father came, and then he told him\\u003cbr\\u003e that the unknown maiden had leapt into the pigeon-house   The old man thought, \\u003cbr\\u003ecan it be cinderella   And they had to bring him an axe and a pickaxe that he mi\\u003cbr\\u003eght hew the pigeon-house to pieces, but no one was inside it   And when they got\\u003cbr\\u003e home cinderella lay in her dirty clothes among the ashes, and\",\"\\u2022 [Node #30]\\u003cbr\\u003e  No, said the man, there is still a little stunted kitchen-wench which my late \\u003cbr\\u003ewife left behind her, but she cannot possibly be the bride   The king's son said\\u003cbr\\u003e he was to send her up to him, but the mother answered, oh, no, she is much too \\u003cbr\\u003edirty, she cannot show herself   But he absolutely insisted on it, and cinderell\\u003cbr\\u003ea had to be called   She first washed her hands and face clean, and then went an\\u003cbr\\u003ed bowed down\",\"\\u2022 [Node #39]\\u003cbr\\u003eCinderella received a gold and silver dress, along with embroidered slippers, fr\\u003cbr\\u003eom a bird as she prepared for a wedding. She wore the dress and looked so stunni\\u003cbr\\u003eng that her step-sisters and step-mother mistook her for a foreign princess. The\\u003cbr\\u003ey didn't recognize her and assumed Cinderella was still at home doing menial cho\\u003cbr\\u003eres. At the wedding, the prince danced only with Cinderella, refusing other part\\u003cbr\\u003eners, and even attempted to follow her home. However, Cinderella managed to esca\\u003cbr\\u003epe\",\"\\u2022 [Node #15]\\u003cbr\\u003eThen the bird threw a gold and silver dress down to her, and slippers embroidere\\u003cbr\\u003ed with silk and silver   She put on the dress with all speed, and went to the we\\u003cbr\\u003edding   Her step-sisters and the step-mother however did not know her, and thoug\\u003cbr\\u003eht she must be a foreign princess, for she looked so beautiful in the golden dre\\u003cbr\\u003ess They never once thought of cinderella, and believed that she was sitting at h\\u003cbr\\u003eome in the dirt, picking lentils out of the ashes   The\",\"\\u2022 [Node #16]\\u003cbr\\u003eprince approached her, took her by the hand and danced with her He would dance w\\u003cbr\\u003eith no other maiden, and never let loose of her hand, and if any one else came t\\u003cbr\\u003eo invite her, he said, this is my partner She danced till it was evening, and th\\u003cbr\\u003een she wanted to go home But the king's son said, I will go with you and bear yo\\u003cbr\\u003eu company, for he wished to see to whom the beautiful maiden belonged She escape\\u003cbr\\u003ed from him, however, and sprang into the\",\"\\u2022 [Node #20]\\u003cbr\\u003eand danced with no one but her   When others came and invited her, he said, this\\u003cbr\\u003e is my partner   When evening came she wished to leave, and the king's son follo\\u003cbr\\u003ewed her and wanted to see into which house she went   But she sprang away from h\\u003cbr\\u003eim, and into the garden behind the house   Therein stood a beautiful tall tree o\\u003cbr\\u003en which hung the most magnificent pears   She clambered so nimbly\",\"\\u2022 [Node #23]\\u003cbr\\u003eAnd now the bird threw down to her a dress which was more splendid and magnifice\\u003cbr\\u003ent than any she had yet had, and the slippers were golden   And when she went to\\u003cbr\\u003e the festival in the dress, no one knew how to speak for astonishment   The king\\u003cbr\\u003e's son danced with her only, and if any one invited her to dance, he said this i\\u003cbr\\u003es my partner When evening came, cinderella wished to leave, and the king's\",\"\\u2022 [Node #24]\\u003cbr\\u003eson was anxious to go with her, but she escaped from him so quickly that he coul\\u003cbr\\u003ed not follow her   The king's son, however, had employed a ruse, and had caused \\u003cbr\\u003ethe whole staircase to be smeared with pitch, and there, when she ran down, had \\u003cbr\\u003ethe maiden's left slipper remained stuck   The king's son picked it up, and it w\\u003cbr\\u003eas small and dainty, and all golden   Next morning, he went with it to\",\"\\u2022 [Node #40]\\u003cbr\\u003eTwo step-sisters are invited to a wedding at the king's palace and ask Cinderell\\u003cbr\\u003ea to help them get ready. Cinderella, although happy for them, wishes she could \\u003cbr\\u003ego to the dance as well. The step-mother refuses Cinderella's request to attend.\\u003cbr\\u003e Later, when the king's son is to marry, the step-sisters want to gain favor wit\\u003cbr\\u003eh Cinderella. During the ceremony, pigeons peck out one eye from each sister on \\u003cbr\\u003edifferent occasions as punishment for their wickedness\",\"\\u2022 [Node #33]\\u003cbr\\u003ethe other on the left, and remained sitting there When the wedding with the king\\u003cbr\\u003e's son was to be celebrated, the two false sisters came and wanted to get into f\\u003cbr\\u003eavor with cinderella and share her good fortune   When the betrothed couple went\\u003cbr\\u003e to church, the elder was at the right side and the younger at the left, and the\\u003cbr\\u003e pigeons pecked out one eye from each of them   Afterwards as they came back the\\u003cbr\\u003e elder was at\",\"\\u2022 [Node #34]\\u003cbr\\u003ethe left, and the younger at the right, and then the pigeons pecked out the othe\\u003cbr\\u003er eye from each   And thus, for their wickedness and falsehood, they were punish\\u003cbr\\u003eed with blindness all their days\",\"\\u2022 [Node #7]\\u003cbr\\u003e  When the two step-sisters heard that they too were to appear among the number,\\u003cbr\\u003e they were delighted, called cinderella and said, comb our hair for us, brush ou\\u003cbr\\u003er shoes and fasten our buckles, for we are going to the wedding at the king's pa\\u003cbr\\u003elace Cinderella obeyed, but wept, because she too would have liked to go with th\\u003cbr\\u003eem to the dance, and begged her step-mother to allow her to do so\"],\"marker\":{\"color\":[\"red\",\"#6175c1\",\"#6175c1\",\"#6175c1\",\"#6175c1\",\"#6175c1\",\"#6175c1\",\"#6175c1\",\"#6175c1\",\"#6175c1\",\"#6175c1\",\"#6175c1\",\"#6175c1\",\"#6175c1\",\"#6175c1\",\"#6175c1\",\"#6175c1\",\"red\",\"#6175c1\",\"#6175c1\",\"red\",\"#6175c1\",\"#6175c1\",\"#6175c1\",\"#6175c1\",\"#6175c1\",\"#6175c1\",\"#6175c1\",\"#6175c1\",\"#6175c1\",\"#6175c1\",\"#6175c1\",\"#6175c1\",\"#6175c1\",\"#6175c1\",\"#6175c1\",\"#6175c1\",\"#6175c1\",\"#6175c1\",\"#6175c1\",\"#6175c1\",\"#6175c1\"],\"line\":{\"color\":\"#000000\",\"width\":2},\"size\":35,\"symbol\":\"circle-dot\"},\"mode\":\"markers+text\",\"name\":\"nodes\",\"opacity\":0.8,\"text\":[\"-1\",\"35\",\"4\",\"5\",\"6\",\"18\",\"19\",\"21\",\"22\",\"36\",\"32\",\"25\",\"26\",\"27\",\"28\",\"29\",\"31\",\"37\",\"0\",\"1\",\"9\",\"10\",\"12\",\"13\",\"38\",\"2\",\"3\",\"8\",\"11\",\"14\",\"17\",\"30\",\"39\",\"15\",\"16\",\"20\",\"23\",\"24\",\"40\",\"33\",\"34\",\"7\"],\"textposition\":\"top center\",\"x\":[0.0,-16.083333333333336,-19.083333333333336,-18.083333333333336,-17.083333333333336,-16.083333333333336,-15.083333333333336,-14.083333333333336,-13.083333333333336,-9.083333333333336,-12.083333333333336,-11.083333333333336,-10.083333333333336,-9.083333333333336,-8.083333333333336,-7.083333333333336,-6.083333333333336,-2.5833333333333357,-5.083333333333336,-4.083333333333336,-3.0833333333333357,-2.0833333333333357,-1.0833333333333357,-0.0833333333333357,3.9166666666666643,0.9166666666666643,1.9166666666666643,2.9166666666666643,3.9166666666666643,4.916666666666664,5.916666666666664,6.916666666666664,9.916666666666664,7.916666666666664,8.916666666666664,9.916666666666664,10.916666666666664,11.916666666666664,13.916666666666664,12.916666666666664,13.916666666666664,14.916666666666664],\"y\":[4.0,3.0,2.0,2.0,2.0,2.0,2.0,2.0,2.0,3.0,2.0,2.0,2.0,2.0,2.0,2.0,2.0,3.0,2.0,2.0,2.0,2.0,2.0,2.0,3.0,2.0,2.0,2.0,2.0,2.0,2.0,2.0,3.0,2.0,2.0,2.0,2.0,2.0,3.0,2.0,2.0,2.0],\"type\":\"scatter\"}],                        {\"font\":{\"size\":12},\"hovermode\":\"closest\",\"margin\":{\"b\":85,\"l\":40,\"r\":40,\"t\":100},\"plot_bgcolor\":\"rgb(248,248,248)\",\"showlegend\":false,\"template\":{\"data\":{\"barpolar\":[{\"marker\":{\"line\":{\"color\":\"#E5ECF6\",\"width\":0.5},\"pattern\":{\"fillmode\":\"overlay\",\"size\":10,\"solidity\":0.2}},\"type\":\"barpolar\"}],\"bar\":[{\"error_x\":{\"color\":\"#2a3f5f\"},\"error_y\":{\"color\":\"#2a3f5f\"},\"marker\":{\"line\":{\"color\":\"#E5ECF6\",\"width\":0.5},\"pattern\":{\"fillmode\":\"overlay\",\"size\":10,\"solidity\":0.2}},\"type\":\"bar\"}],\"carpet\":[{\"aaxis\":{\"endlinecolor\":\"#2a3f5f\",\"gridcolor\":\"white\",\"linecolor\":\"white\",\"minorgridcolor\":\"white\",\"startlinecolor\":\"#2a3f5f\"},\"baxis\":{\"endlinecolor\":\"#2a3f5f\",\"gridcolor\":\"white\",\"linecolor\":\"white\",\"minorgridcolor\":\"white\",\"startlinecolor\":\"#2a3f5f\"},\"type\":\"carpet\"}],\"choropleth\":[{\"colorbar\":{\"outlinewidth\":0,\"ticks\":\"\"},\"type\":\"choropleth\"}],\"contourcarpet\":[{\"colorbar\":{\"outlinewidth\":0,\"ticks\":\"\"},\"type\":\"contourcarpet\"}],\"contour\":[{\"colorbar\":{\"outlinewidth\":0,\"ticks\":\"\"},\"colorscale\":[[0.0,\"#0d0887\"],[0.1111111111111111,\"#46039f\"],[0.2222222222222222,\"#7201a8\"],[0.3333333333333333,\"#9c179e\"],[0.4444444444444444,\"#bd3786\"],[0.5555555555555556,\"#d8576b\"],[0.6666666666666666,\"#ed7953\"],[0.7777777777777778,\"#fb9f3a\"],[0.8888888888888888,\"#fdca26\"],[1.0,\"#f0f921\"]],\"type\":\"contour\"}],\"heatmapgl\":[{\"colorbar\":{\"outlinewidth\":0,\"ticks\":\"\"},\"colorscale\":[[0.0,\"#0d0887\"],[0.1111111111111111,\"#46039f\"],[0.2222222222222222,\"#7201a8\"],[0.3333333333333333,\"#9c179e\"],[0.4444444444444444,\"#bd3786\"],[0.5555555555555556,\"#d8576b\"],[0.6666666666666666,\"#ed7953\"],[0.7777777777777778,\"#fb9f3a\"],[0.8888888888888888,\"#fdca26\"],[1.0,\"#f0f921\"]],\"type\":\"heatmapgl\"}],\"heatmap\":[{\"colorbar\":{\"outlinewidth\":0,\"ticks\":\"\"},\"colorscale\":[[0.0,\"#0d0887\"],[0.1111111111111111,\"#46039f\"],[0.2222222222222222,\"#7201a8\"],[0.3333333333333333,\"#9c179e\"],[0.4444444444444444,\"#bd3786\"],[0.5555555555555556,\"#d8576b\"],[0.6666666666666666,\"#ed7953\"],[0.7777777777777778,\"#fb9f3a\"],[0.8888888888888888,\"#fdca26\"],[1.0,\"#f0f921\"]],\"type\":\"heatmap\"}],\"histogram2dcontour\":[{\"colorbar\":{\"outlinewidth\":0,\"ticks\":\"\"},\"colorscale\":[[0.0,\"#0d0887\"],[0.1111111111111111,\"#46039f\"],[0.2222222222222222,\"#7201a8\"],[0.3333333333333333,\"#9c179e\"],[0.4444444444444444,\"#bd3786\"],[0.5555555555555556,\"#d8576b\"],[0.6666666666666666,\"#ed7953\"],[0.7777777777777778,\"#fb9f3a\"],[0.8888888888888888,\"#fdca26\"],[1.0,\"#f0f921\"]],\"type\":\"histogram2dcontour\"}],\"histogram2d\":[{\"colorbar\":{\"outlinewidth\":0,\"ticks\":\"\"},\"colorscale\":[[0.0,\"#0d0887\"],[0.1111111111111111,\"#46039f\"],[0.2222222222222222,\"#7201a8\"],[0.3333333333333333,\"#9c179e\"],[0.4444444444444444,\"#bd3786\"],[0.5555555555555556,\"#d8576b\"],[0.6666666666666666,\"#ed7953\"],[0.7777777777777778,\"#fb9f3a\"],[0.8888888888888888,\"#fdca26\"],[1.0,\"#f0f921\"]],\"type\":\"histogram2d\"}],\"histogram\":[{\"marker\":{\"pattern\":{\"fillmode\":\"overlay\",\"size\":10,\"solidity\":0.2}},\"type\":\"histogram\"}],\"mesh3d\":[{\"colorbar\":{\"outlinewidth\":0,\"ticks\":\"\"},\"type\":\"mesh3d\"}],\"parcoords\":[{\"line\":{\"colorbar\":{\"outlinewidth\":0,\"ticks\":\"\"}},\"type\":\"parcoords\"}],\"pie\":[{\"automargin\":true,\"type\":\"pie\"}],\"scatter3d\":[{\"line\":{\"colorbar\":{\"outlinewidth\":0,\"ticks\":\"\"}},\"marker\":{\"colorbar\":{\"outlinewidth\":0,\"ticks\":\"\"}},\"type\":\"scatter3d\"}],\"scattercarpet\":[{\"marker\":{\"colorbar\":{\"outlinewidth\":0,\"ticks\":\"\"}},\"type\":\"scattercarpet\"}],\"scattergeo\":[{\"marker\":{\"colorbar\":{\"outlinewidth\":0,\"ticks\":\"\"}},\"type\":\"scattergeo\"}],\"scattergl\":[{\"marker\":{\"colorbar\":{\"outlinewidth\":0,\"ticks\":\"\"}},\"type\":\"scattergl\"}],\"scattermapbox\":[{\"marker\":{\"colorbar\":{\"outlinewidth\":0,\"ticks\":\"\"}},\"type\":\"scattermapbox\"}],\"scatterpolargl\":[{\"marker\":{\"colorbar\":{\"outlinewidth\":0,\"ticks\":\"\"}},\"type\":\"scatterpolargl\"}],\"scatterpolar\":[{\"marker\":{\"colorbar\":{\"outlinewidth\":0,\"ticks\":\"\"}},\"type\":\"scatterpolar\"}],\"scatter\":[{\"fillpattern\":{\"fillmode\":\"overlay\",\"size\":10,\"solidity\":0.2},\"type\":\"scatter\"}],\"scatterternary\":[{\"marker\":{\"colorbar\":{\"outlinewidth\":0,\"ticks\":\"\"}},\"type\":\"scatterternary\"}],\"surface\":[{\"colorbar\":{\"outlinewidth\":0,\"ticks\":\"\"},\"colorscale\":[[0.0,\"#0d0887\"],[0.1111111111111111,\"#46039f\"],[0.2222222222222222,\"#7201a8\"],[0.3333333333333333,\"#9c179e\"],[0.4444444444444444,\"#bd3786\"],[0.5555555555555556,\"#d8576b\"],[0.6666666666666666,\"#ed7953\"],[0.7777777777777778,\"#fb9f3a\"],[0.8888888888888888,\"#fdca26\"],[1.0,\"#f0f921\"]],\"type\":\"surface\"}],\"table\":[{\"cells\":{\"fill\":{\"color\":\"#EBF0F8\"},\"line\":{\"color\":\"white\"}},\"header\":{\"fill\":{\"color\":\"#C8D4E3\"},\"line\":{\"color\":\"white\"}},\"type\":\"table\"}]},\"layout\":{\"annotationdefaults\":{\"arrowcolor\":\"#2a3f5f\",\"arrowhead\":0,\"arrowwidth\":1},\"autotypenumbers\":\"strict\",\"coloraxis\":{\"colorbar\":{\"outlinewidth\":0,\"ticks\":\"\"}},\"colorscale\":{\"diverging\":[[0,\"#8e0152\"],[0.1,\"#c51b7d\"],[0.2,\"#de77ae\"],[0.3,\"#f1b6da\"],[0.4,\"#fde0ef\"],[0.5,\"#f7f7f7\"],[0.6,\"#e6f5d0\"],[0.7,\"#b8e186\"],[0.8,\"#7fbc41\"],[0.9,\"#4d9221\"],[1,\"#276419\"]],\"sequential\":[[0.0,\"#0d0887\"],[0.1111111111111111,\"#46039f\"],[0.2222222222222222,\"#7201a8\"],[0.3333333333333333,\"#9c179e\"],[0.4444444444444444,\"#bd3786\"],[0.5555555555555556,\"#d8576b\"],[0.6666666666666666,\"#ed7953\"],[0.7777777777777778,\"#fb9f3a\"],[0.8888888888888888,\"#fdca26\"],[1.0,\"#f0f921\"]],\"sequentialminus\":[[0.0,\"#0d0887\"],[0.1111111111111111,\"#46039f\"],[0.2222222222222222,\"#7201a8\"],[0.3333333333333333,\"#9c179e\"],[0.4444444444444444,\"#bd3786\"],[0.5555555555555556,\"#d8576b\"],[0.6666666666666666,\"#ed7953\"],[0.7777777777777778,\"#fb9f3a\"],[0.8888888888888888,\"#fdca26\"],[1.0,\"#f0f921\"]]},\"colorway\":[\"#636efa\",\"#EF553B\",\"#00cc96\",\"#ab63fa\",\"#FFA15A\",\"#19d3f3\",\"#FF6692\",\"#B6E880\",\"#FF97FF\",\"#FECB52\"],\"font\":{\"color\":\"#2a3f5f\"},\"geo\":{\"bgcolor\":\"white\",\"lakecolor\":\"white\",\"landcolor\":\"#E5ECF6\",\"showlakes\":true,\"showland\":true,\"subunitcolor\":\"white\"},\"hoverlabel\":{\"align\":\"left\"},\"hovermode\":\"closest\",\"mapbox\":{\"style\":\"light\"},\"paper_bgcolor\":\"white\",\"plot_bgcolor\":\"#E5ECF6\",\"polar\":{\"angularaxis\":{\"gridcolor\":\"white\",\"linecolor\":\"white\",\"ticks\":\"\"},\"bgcolor\":\"#E5ECF6\",\"radialaxis\":{\"gridcolor\":\"white\",\"linecolor\":\"white\",\"ticks\":\"\"}},\"scene\":{\"xaxis\":{\"backgroundcolor\":\"#E5ECF6\",\"gridcolor\":\"white\",\"gridwidth\":2,\"linecolor\":\"white\",\"showbackground\":true,\"ticks\":\"\",\"zerolinecolor\":\"white\"},\"yaxis\":{\"backgroundcolor\":\"#E5ECF6\",\"gridcolor\":\"white\",\"gridwidth\":2,\"linecolor\":\"white\",\"showbackground\":true,\"ticks\":\"\",\"zerolinecolor\":\"white\"},\"zaxis\":{\"backgroundcolor\":\"#E5ECF6\",\"gridcolor\":\"white\",\"gridwidth\":2,\"linecolor\":\"white\",\"showbackground\":true,\"ticks\":\"\",\"zerolinecolor\":\"white\"}},\"shapedefaults\":{\"line\":{\"color\":\"#2a3f5f\"}},\"ternary\":{\"aaxis\":{\"gridcolor\":\"white\",\"linecolor\":\"white\",\"ticks\":\"\"},\"baxis\":{\"gridcolor\":\"white\",\"linecolor\":\"white\",\"ticks\":\"\"},\"bgcolor\":\"#E5ECF6\",\"caxis\":{\"gridcolor\":\"white\",\"linecolor\":\"white\",\"ticks\":\"\"}},\"title\":{\"x\":0.05},\"xaxis\":{\"automargin\":true,\"gridcolor\":\"white\",\"linecolor\":\"white\",\"ticks\":\"\",\"title\":{\"standoff\":15},\"zerolinecolor\":\"white\",\"zerolinewidth\":2},\"yaxis\":{\"automargin\":true,\"gridcolor\":\"white\",\"linecolor\":\"white\",\"ticks\":\"\",\"title\":{\"standoff\":15},\"zerolinecolor\":\"white\",\"zerolinewidth\":2}}},\"title\":{\"text\":\"Tree Visualization\"},\"width\":1500,\"xaxis\":{\"showgrid\":false,\"showline\":false,\"showticklabels\":false,\"zeroline\":false},\"yaxis\":{\"showgrid\":false,\"showline\":false,\"showticklabels\":false,\"zeroline\":false}},                        {\"responsive\": true}                    ).then(function(){\n",
       "                            \n",
       "var gd = document.getElementById('585b9f14-ee04-47dd-b5cc-5d75141b8d8b');\n",
       "var x = new MutationObserver(function (mutations, observer) {{\n",
       "        var display = window.getComputedStyle(gd).display;\n",
       "        if (!display || display === 'none') {{\n",
       "            console.log([gd, 'removed!']);\n",
       "            Plotly.purge(gd);\n",
       "            observer.disconnect();\n",
       "        }}\n",
       "}});\n",
       "\n",
       "// Listen for the removal of the full notebook cells\n",
       "var notebookContainer = gd.closest('#notebook-container');\n",
       "if (notebookContainer) {{\n",
       "    x.observe(notebookContainer, {childList: true});\n",
       "}}\n",
       "\n",
       "// Listen for the clearing of the current output cell\n",
       "var outputEl = gd.closest('.output');\n",
       "if (outputEl) {{\n",
       "    x.observe(outputEl, {childList: true});\n",
       "}}\n",
       "\n",
       "                        })                };                });            </script>        </div>"
      ]
     },
     "metadata": {},
     "output_type": "display_data"
    }
   ],
   "execution_count": 2
  },
  {
   "metadata": {},
   "cell_type": "code",
   "outputs": [],
   "execution_count": null,
   "source": "",
   "id": "fdafa725979995c6"
  }
 ],
 "metadata": {
  "kernelspec": {
   "display_name": "Python 3",
   "language": "python",
   "name": "python3"
  },
  "language_info": {
   "codemirror_mode": {
    "name": "ipython",
    "version": 2
   },
   "file_extension": ".py",
   "mimetype": "text/x-python",
   "name": "python",
   "nbconvert_exporter": "python",
   "pygments_lexer": "ipython2",
   "version": "2.7.6"
  }
 },
 "nbformat": 4,
 "nbformat_minor": 5
}
